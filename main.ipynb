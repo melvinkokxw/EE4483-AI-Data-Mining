{
 "cells": [
  {
   "cell_type": "markdown",
   "metadata": {},
   "source": [
    "# EE4483 Mini Project (Option 2): Cats vs Dogs\n",
    "\n",
    "Name: Melvin Kok Xinwei<br>\n",
    "Matriculation Number: U1820030C\n",
    "\n",
    "## Overview\n",
    "1. Data exploration\n",
    "2. Loading and processing data\n",
    "3. Model selection\n",
    "4. Model training\n",
    "5. Model testing\n",
    "6. CIFAR-10 training\n",
    "7. CIFAR-10 testing"
   ]
  },
  {
   "cell_type": "markdown",
   "metadata": {},
   "source": [
    "# Setup environment"
   ]
  },
  {
   "cell_type": "code",
   "execution_count": 1,
   "metadata": {},
   "outputs": [],
   "source": [
    "import copy\n",
    "import glob\n",
    "import os\n",
    "import random\n",
    "from pathlib import Path\n",
    "\n",
    "import cv2\n",
    "import matplotlib.pyplot as plt\n",
    "import numpy as np\n",
    "import pandas as pd\n",
    "import torch\n",
    "import torchvision\n",
    "import torchvision.transforms as transforms\n",
    "from pandas.core.common import flatten\n",
    "from torch.utils.data import DataLoader, Dataset\n",
    "from tqdm import tqdm\n",
    "\n",
    "%matplotlib inline"
   ]
  },
  {
   "cell_type": "code",
   "execution_count": 2,
   "metadata": {},
   "outputs": [],
   "source": [
    "device = torch.device(\"cuda\" if torch.cuda.is_available() else \"cpu\")\n",
    "separator = os.path.sep"
   ]
  },
  {
   "cell_type": "code",
   "execution_count": 3,
   "metadata": {},
   "outputs": [],
   "source": [
    "params = {\n",
    "    \"lr\": 0.001,\n",
    "    \"batch_size\": 64,\n",
    "    \"n_epochs\": 10,\n",
    "    \"image_size\": 224,\n",
    "    \"dropout_rate\": 0.5,\n",
    "}"
   ]
  },
  {
   "cell_type": "markdown",
   "metadata": {},
   "source": [
    "# 1. Data exploration\n",
    "\n",
    "Place `datasets` in same directory as notebook"
   ]
  },
  {
   "cell_type": "code",
   "execution_count": 4,
   "metadata": {},
   "outputs": [],
   "source": [
    "# Define main directories\n",
    "base_dir = \"datasets\"\n",
    "train_dir = os.path.join(base_dir, \"train\")\n",
    "validation_dir = os.path.join(base_dir, \"val\")\n",
    "test_dir = os.path.join(base_dir, \"test\")"
   ]
  },
  {
   "cell_type": "code",
   "execution_count": 5,
   "metadata": {},
   "outputs": [
    {
     "name": "stdout",
     "output_type": "stream",
     "text": [
      "train_image_path example:  datasets\\train\\cat\\cat.3532.jpg\n",
      "validation_image_path example:  datasets\\val\\dog\\dog.7569.jpg\n",
      "test_image_path example:  datasets\\test\\1.jpg\n"
     ]
    }
   ],
   "source": [
    "# Paths for training images\n",
    "train_image_paths = []\n",
    "train_classes = {}\n",
    "\n",
    "for data_path in glob.glob(train_dir + separator + \"*\"):\n",
    "    images = glob.glob(data_path + separator + \"*\")\n",
    "    train_classes[data_path.split(separator)[-1]] = len(images)\n",
    "    train_image_paths.append(images)\n",
    "\n",
    "train_image_paths = list(flatten(train_image_paths))\n",
    "random.shuffle(train_image_paths)\n",
    "\n",
    "# Paths for validation images\n",
    "validation_image_paths = []\n",
    "validation_classes = {}\n",
    "\n",
    "for data_path in glob.glob(validation_dir + separator + \"*\"):\n",
    "    images = glob.glob(data_path + separator + \"*\")\n",
    "    validation_classes[data_path.split(separator)[-1]] = len(images)\n",
    "    validation_image_paths.append(images)\n",
    "\n",
    "validation_image_paths = list(flatten(validation_image_paths))\n",
    "random.shuffle(validation_image_paths)\n",
    "\n",
    "# Paths for test images\n",
    "test_image_paths = []\n",
    "for data_path in glob.glob(test_dir + separator + \"*\"):\n",
    "    test_image_paths.append(data_path)\n",
    "\n",
    "test_image_paths = list(flatten(test_image_paths))\n",
    "\n",
    "print(\"train_image_path example: \", train_image_paths[0])\n",
    "print(\"validation_image_path example: \", validation_image_paths[0])\n",
    "print(\"test_image_path example: \", test_image_paths[0])"
   ]
  },
  {
   "cell_type": "code",
   "execution_count": 6,
   "metadata": {},
   "outputs": [
    {
     "name": "stdout",
     "output_type": "stream",
     "text": [
      "Train class cat, data size 10000\n",
      "Train class dog, data size 10000\n",
      "Validation class cat, data size 2500\n",
      "Validation class dog, data size 2500\n",
      "Test size: 500\n"
     ]
    }
   ],
   "source": [
    "for key, value in train_classes.items():\n",
    "    print(f\"Train class {key}, data size {value}\")\n",
    "\n",
    "for key, value in validation_classes.items():\n",
    "    print(f\"Validation class {key}, data size {value}\")\n",
    "\n",
    "print(f\"Test size: {len(test_image_paths)}\")"
   ]
  },
  {
   "cell_type": "markdown",
   "metadata": {},
   "source": [
    "# 2. Loading and processing data"
   ]
  },
  {
   "cell_type": "code",
   "execution_count": 7,
   "metadata": {},
   "outputs": [],
   "source": [
    "# Class to id mappings\n",
    "class_to_id = {\"cat\": 0, \"dog\": 1}\n",
    "\n",
    "# Custom Dataset class\n",
    "class CatDogDataset(Dataset):\n",
    "    def __init__(self, image_paths, class_to_id, transform=False):\n",
    "        self.image_paths = image_paths\n",
    "        self.transform = transform\n",
    "        self.class_to_id = class_to_id\n",
    "\n",
    "    def __len__(self):\n",
    "        return len(self.image_paths)\n",
    "\n",
    "    def __getitem__(self, idx):\n",
    "        image_filepath = self.image_paths[idx]\n",
    "        image = cv2.imread(image_filepath)\n",
    "        image = cv2.cvtColor(image, cv2.COLOR_BGR2RGB)\n",
    "\n",
    "        label = image_filepath.split(separator)[-2]\n",
    "        label = self.class_to_id[label]\n",
    "        if self.transform is not None:\n",
    "            image = self.transform(image)\n",
    "\n",
    "        return image, label"
   ]
  },
  {
   "cell_type": "code",
   "execution_count": 8,
   "metadata": {},
   "outputs": [
    {
     "name": "stderr",
     "output_type": "stream",
     "text": [
      "100%|██████████| 20000/20000 [01:58<00:00, 168.46it/s]\n"
     ]
    },
    {
     "name": "stdout",
     "output_type": "stream",
     "text": [
      "[0.48846444487571716, 0.45509541034698486, 0.4170514643192291]\n",
      "[0.23550903797149658, 0.23108406364917755, 0.23146183788776398]\n"
     ]
    }
   ],
   "source": [
    "# Pre-calculated values, use this to save on time\n",
    "# mean = [0.48846444487571716, 0.45509546995162964, 0.4170514643192291]\n",
    "# std = [0.23550905287265778, 0.23108406364917755, 0.23146183788776398]\n",
    "\n",
    "# Get mean and std of dataset\n",
    "transform = transforms.Compose(\n",
    "    [\n",
    "        transforms.ToPILImage(),\n",
    "        transforms.ToTensor(),\n",
    "    ]\n",
    ")\n",
    "\n",
    "dataset = CatDogDataset(train_image_paths, class_to_id, transform)\n",
    "\n",
    "means = []\n",
    "vars = []\n",
    "for img, _ in tqdm(dataset):\n",
    "    means.append(torch.mean(img, [1, 2]))\n",
    "    vars.append(torch.var(img, [1, 2]))\n",
    "\n",
    "mean = torch.mean(torch.stack(means), 0)\n",
    "var = torch.mean(torch.stack(vars), 0)\n",
    "std = torch.sqrt(var)\n",
    "\n",
    "mean = mean.tolist()\n",
    "std = std.tolist()\n",
    "print(mean)\n",
    "print(std)"
   ]
  },
  {
   "cell_type": "code",
   "execution_count": 9,
   "metadata": {},
   "outputs": [],
   "source": [
    "# Image augmentations and pre-processing\n",
    "train_transform = transforms.Compose(\n",
    "    [\n",
    "        transforms.ToPILImage(),\n",
    "        transforms.RandomHorizontalFlip(),\n",
    "        transforms.RandomRotation(10),\n",
    "        transforms.RandomResizedCrop(params[\"image_size\"]),\n",
    "        transforms.ToTensor(),\n",
    "        transforms.Normalize(mean, std),\n",
    "    ]\n",
    ")\n",
    "\n",
    "validation_transform = transforms.Compose(\n",
    "    [\n",
    "        transforms.ToPILImage(),\n",
    "        transforms.Resize((params[\"image_size\"], params[\"image_size\"])),\n",
    "        transforms.ToTensor(),\n",
    "        transforms.Normalize(mean, std),\n",
    "    ]\n",
    ")"
   ]
  },
  {
   "cell_type": "code",
   "execution_count": 10,
   "metadata": {},
   "outputs": [],
   "source": [
    "train_dataset = CatDogDataset(train_image_paths, class_to_id, train_transform)\n",
    "valid_dataset = CatDogDataset(validation_image_paths, class_to_id, validation_transform)"
   ]
  },
  {
   "cell_type": "code",
   "execution_count": 11,
   "metadata": {},
   "outputs": [],
   "source": [
    "train_loader = DataLoader(train_dataset, batch_size=params[\"batch_size\"], shuffle=True)\n",
    "valid_loader = DataLoader(valid_dataset, batch_size=params[\"batch_size\"], shuffle=False)"
   ]
  },
  {
   "cell_type": "markdown",
   "metadata": {},
   "source": [
    "# 3. Model selection"
   ]
  },
  {
   "cell_type": "code",
   "execution_count": 12,
   "metadata": {},
   "outputs": [
    {
     "name": "stdout",
     "output_type": "stream",
     "text": [
      "VGG(\n",
      "  (features): Sequential(\n",
      "    (0): Conv2d(3, 64, kernel_size=(3, 3), stride=(1, 1), padding=(1, 1))\n",
      "    (1): ReLU(inplace=True)\n",
      "    (2): Conv2d(64, 64, kernel_size=(3, 3), stride=(1, 1), padding=(1, 1))\n",
      "    (3): ReLU(inplace=True)\n",
      "    (4): MaxPool2d(kernel_size=2, stride=2, padding=0, dilation=1, ceil_mode=False)\n",
      "    (5): Conv2d(64, 128, kernel_size=(3, 3), stride=(1, 1), padding=(1, 1))\n",
      "    (6): ReLU(inplace=True)\n",
      "    (7): Conv2d(128, 128, kernel_size=(3, 3), stride=(1, 1), padding=(1, 1))\n",
      "    (8): ReLU(inplace=True)\n",
      "    (9): MaxPool2d(kernel_size=2, stride=2, padding=0, dilation=1, ceil_mode=False)\n",
      "    (10): Conv2d(128, 256, kernel_size=(3, 3), stride=(1, 1), padding=(1, 1))\n",
      "    (11): ReLU(inplace=True)\n",
      "    (12): Conv2d(256, 256, kernel_size=(3, 3), stride=(1, 1), padding=(1, 1))\n",
      "    (13): ReLU(inplace=True)\n",
      "    (14): Conv2d(256, 256, kernel_size=(3, 3), stride=(1, 1), padding=(1, 1))\n",
      "    (15): ReLU(inplace=True)\n",
      "    (16): Conv2d(256, 256, kernel_size=(3, 3), stride=(1, 1), padding=(1, 1))\n",
      "    (17): ReLU(inplace=True)\n",
      "    (18): MaxPool2d(kernel_size=2, stride=2, padding=0, dilation=1, ceil_mode=False)\n",
      "    (19): Conv2d(256, 512, kernel_size=(3, 3), stride=(1, 1), padding=(1, 1))\n",
      "    (20): ReLU(inplace=True)\n",
      "    (21): Conv2d(512, 512, kernel_size=(3, 3), stride=(1, 1), padding=(1, 1))\n",
      "    (22): ReLU(inplace=True)\n",
      "    (23): Conv2d(512, 512, kernel_size=(3, 3), stride=(1, 1), padding=(1, 1))\n",
      "    (24): ReLU(inplace=True)\n",
      "    (25): Conv2d(512, 512, kernel_size=(3, 3), stride=(1, 1), padding=(1, 1))\n",
      "    (26): ReLU(inplace=True)\n",
      "    (27): MaxPool2d(kernel_size=2, stride=2, padding=0, dilation=1, ceil_mode=False)\n",
      "    (28): Conv2d(512, 512, kernel_size=(3, 3), stride=(1, 1), padding=(1, 1))\n",
      "    (29): ReLU(inplace=True)\n",
      "    (30): Conv2d(512, 512, kernel_size=(3, 3), stride=(1, 1), padding=(1, 1))\n",
      "    (31): ReLU(inplace=True)\n",
      "    (32): Conv2d(512, 512, kernel_size=(3, 3), stride=(1, 1), padding=(1, 1))\n",
      "    (33): ReLU(inplace=True)\n",
      "    (34): Conv2d(512, 512, kernel_size=(3, 3), stride=(1, 1), padding=(1, 1))\n",
      "    (35): ReLU(inplace=True)\n",
      "    (36): MaxPool2d(kernel_size=2, stride=2, padding=0, dilation=1, ceil_mode=False)\n",
      "  )\n",
      "  (avgpool): AdaptiveAvgPool2d(output_size=(7, 7))\n",
      "  (classifier): Sequential(\n",
      "    (0): Linear(in_features=25088, out_features=4096, bias=True)\n",
      "    (1): ReLU(inplace=True)\n",
      "    (2): Dropout(p=0.5, inplace=False)\n",
      "    (3): Linear(in_features=4096, out_features=4096, bias=True)\n",
      "    (4): ReLU(inplace=True)\n",
      "    (5): Dropout(p=0.5, inplace=False)\n",
      "    (6): Linear(in_features=4096, out_features=1000, bias=True)\n",
      "  )\n",
      ")\n"
     ]
    }
   ],
   "source": [
    "cat_dog_model = torchvision.models.vgg19(pretrained=True)\n",
    "print(cat_dog_model)"
   ]
  },
  {
   "cell_type": "code",
   "execution_count": 13,
   "metadata": {},
   "outputs": [],
   "source": [
    "# Freeze layers in model\n",
    "for param in cat_dog_model.parameters():\n",
    "    param.requires_grad = False\n",
    "\n",
    "cat_dog_model.classifier = torch.nn.Sequential(torch.nn.Linear(25088, 4096),\n",
    "                                               torch.nn.ReLU(),\n",
    "                                               torch.nn.Dropout(p=params[\"dropout_rate\"]),\n",
    "                                               torch.nn.Linear(4096, 4096),\n",
    "                                               torch.nn.ReLU(),\n",
    "                                               torch.nn.Dropout(p=params[\"dropout_rate\"]),\n",
    "                                               torch.nn.Linear(4096, 2))\n",
    "\n",
    "# Unfreeze classifier\n",
    "for param in cat_dog_model.classifier.parameters():\n",
    "    param.requires_grad = True\n",
    "\n",
    "model = copy.deepcopy(cat_dog_model)\n",
    "\n",
    "model.to(device)\n",
    "\n",
    "probs = torch.nn.Softmax(dim=1)\n",
    "loss_fn = torch.nn.CrossEntropyLoss()\n",
    "optimizer = torch.optim.SGD(model.classifier.parameters(), lr=params[\"lr\"])"
   ]
  },
  {
   "cell_type": "markdown",
   "metadata": {},
   "source": [
    "# 4. Model training"
   ]
  },
  {
   "cell_type": "code",
   "execution_count": 14,
   "metadata": {},
   "outputs": [
    {
     "name": "stderr",
     "output_type": "stream",
     "text": [
      "Epoch 1/10: 100%|██████████| 313/313 [02:43<00:00,  1.92batch/s, loss=0.261]\n",
      "Epoch 1/10: 100%|██████████| 79/79 [00:37<00:00,  2.12batch/s, loss=0.174]\n"
     ]
    },
    {
     "name": "stdout",
     "output_type": "stream",
     "text": [
      "Epoch 1 avg Valid loss: 0.103\n",
      "Epoch 1 Valid accuracy: 98.2% (4908 of 5000 right)\n",
      "\n"
     ]
    },
    {
     "name": "stderr",
     "output_type": "stream",
     "text": [
      "Epoch 2/10: 100%|██████████| 313/313 [02:39<00:00,  1.96batch/s, loss=0.137]\n",
      "Epoch 2/10: 100%|██████████| 79/79 [00:37<00:00,  2.12batch/s, loss=0.068]\n"
     ]
    },
    {
     "name": "stdout",
     "output_type": "stream",
     "text": [
      "Epoch 2 avg Valid loss: 0.050\n",
      "Epoch 2 Valid accuracy: 98.6% (4930 of 5000 right)\n",
      "\n"
     ]
    },
    {
     "name": "stderr",
     "output_type": "stream",
     "text": [
      "Epoch 3/10: 100%|██████████| 313/313 [02:39<00:00,  1.96batch/s, loss=0.207]\n",
      "Epoch 3/10: 100%|██████████| 79/79 [00:37<00:00,  2.11batch/s, loss=0.0362]\n"
     ]
    },
    {
     "name": "stdout",
     "output_type": "stream",
     "text": [
      "Epoch 3 avg Valid loss: 0.038\n",
      "Epoch 3 Valid accuracy: 98.8% (4941 of 5000 right)\n",
      "\n"
     ]
    },
    {
     "name": "stderr",
     "output_type": "stream",
     "text": [
      "Epoch 4/10: 100%|██████████| 313/313 [02:39<00:00,  1.96batch/s, loss=0.126]\n",
      "Epoch 4/10: 100%|██████████| 79/79 [00:37<00:00,  2.12batch/s, loss=0.0221]\n"
     ]
    },
    {
     "name": "stdout",
     "output_type": "stream",
     "text": [
      "Epoch 4 avg Valid loss: 0.033\n",
      "Epoch 4 Valid accuracy: 98.9% (4944 of 5000 right)\n",
      "\n"
     ]
    },
    {
     "name": "stderr",
     "output_type": "stream",
     "text": [
      "Epoch 5/10: 100%|██████████| 313/313 [02:39<00:00,  1.96batch/s, loss=0.109]\n",
      "Epoch 5/10: 100%|██████████| 79/79 [00:37<00:00,  2.12batch/s, loss=0.0151]\n"
     ]
    },
    {
     "name": "stdout",
     "output_type": "stream",
     "text": [
      "Epoch 5 avg Valid loss: 0.031\n",
      "Epoch 5 Valid accuracy: 98.9% (4945 of 5000 right)\n",
      "\n"
     ]
    },
    {
     "name": "stderr",
     "output_type": "stream",
     "text": [
      "Epoch 6/10: 100%|██████████| 313/313 [02:39<00:00,  1.96batch/s, loss=0.059]\n",
      "Epoch 6/10: 100%|██████████| 79/79 [00:37<00:00,  2.12batch/s, loss=0.012]\n"
     ]
    },
    {
     "name": "stdout",
     "output_type": "stream",
     "text": [
      "Epoch 6 avg Valid loss: 0.030\n",
      "Epoch 6 Valid accuracy: 99.0% (4948 of 5000 right)\n",
      "\n"
     ]
    },
    {
     "name": "stderr",
     "output_type": "stream",
     "text": [
      "Epoch 7/10: 100%|██████████| 313/313 [02:39<00:00,  1.97batch/s, loss=0.066]\n",
      "Epoch 7/10: 100%|██████████| 79/79 [00:37<00:00,  2.13batch/s, loss=0.0118]\n"
     ]
    },
    {
     "name": "stdout",
     "output_type": "stream",
     "text": [
      "Epoch 7 avg Valid loss: 0.030\n",
      "Epoch 7 Valid accuracy: 99.0% (4950 of 5000 right)\n",
      "\n"
     ]
    },
    {
     "name": "stderr",
     "output_type": "stream",
     "text": [
      "Epoch 8/10: 100%|██████████| 313/313 [02:39<00:00,  1.96batch/s, loss=0.0664]\n",
      "Epoch 8/10: 100%|██████████| 79/79 [00:37<00:00,  2.13batch/s, loss=0.0083]\n"
     ]
    },
    {
     "name": "stdout",
     "output_type": "stream",
     "text": [
      "Epoch 8 avg Valid loss: 0.029\n",
      "Epoch 8 Valid accuracy: 99.0% (4950 of 5000 right)\n",
      "\n"
     ]
    },
    {
     "name": "stderr",
     "output_type": "stream",
     "text": [
      "Epoch 9/10: 100%|██████████| 313/313 [02:39<00:00,  1.96batch/s, loss=0.17]\n",
      "Epoch 9/10: 100%|██████████| 79/79 [00:37<00:00,  2.12batch/s, loss=0.0088]\n"
     ]
    },
    {
     "name": "stdout",
     "output_type": "stream",
     "text": [
      "Epoch 9 avg Valid loss: 0.029\n",
      "Epoch 9 Valid accuracy: 99.0% (4948 of 5000 right)\n",
      "\n"
     ]
    },
    {
     "name": "stderr",
     "output_type": "stream",
     "text": [
      "Epoch 10/10: 100%|██████████| 313/313 [02:39<00:00,  1.96batch/s, loss=0.197]\n",
      "Epoch 10/10: 100%|██████████| 79/79 [00:37<00:00,  2.12batch/s, loss=0.00643]\n"
     ]
    },
    {
     "name": "stdout",
     "output_type": "stream",
     "text": [
      "Epoch 10 avg Valid loss: 0.028\n",
      "Epoch 10 Valid accuracy: 98.9% (4945 of 5000 right)\n",
      "\n"
     ]
    }
   ],
   "source": [
    "train_losses = []\n",
    "valid_losses = []\n",
    "valid_acc = []\n",
    "for epoch in range(params[\"n_epochs\"]):\n",
    "    # Train\n",
    "    train_loss = 0.0\n",
    "    model.train()\n",
    "    with tqdm(enumerate(train_loader), total=len(train_loader), unit=\"batch\") as pbar:\n",
    "        for step, (imgs, labels) in pbar:\n",
    "            pbar.set_description(f\"Epoch {epoch+1}/{params['n_epochs']}\")\n",
    "\n",
    "            imgs, labels = imgs.to(device), labels.to(device)\n",
    "            optimizer.zero_grad()\n",
    "            log_preds = model(imgs)\n",
    "            loss = loss_fn(log_preds, labels)\n",
    "            loss.backward()\n",
    "\n",
    "            optimizer.step()\n",
    "\n",
    "            train_loss += ((1 / (step + 1)) * (loss.data.item() - train_loss))\n",
    "\n",
    "            pbar.set_postfix(loss=loss.data.item())\n",
    "\n",
    "    train_losses.append(train_loss)\n",
    "\n",
    "    # Validation\n",
    "    valid_loss = 0\n",
    "    actual_labels = []\n",
    "    pred_labels = []\n",
    "    model.eval()\n",
    "    with tqdm(enumerate(valid_loader), total=len(valid_loader), unit=\"batch\") as pbar:\n",
    "        for step, (imgs, labels) in pbar:\n",
    "            pbar.set_description(f\"Epoch {epoch+1}/{params['n_epochs']}\")  \n",
    "            imgs, labels = imgs.to(device), labels.to(device)\n",
    "            log_preds = model(imgs)\n",
    "            loss = loss_fn(log_preds, labels)\n",
    "            preds = probs(log_preds)\n",
    "\n",
    "            valid_loss+=((1 / (step + 1)) * (loss.data.item() - valid_loss))\n",
    "\n",
    "            # Calculate accuracy\n",
    "            top_prob, top_class = preds.topk(1, dim=1)\n",
    "            pred_labels+= list((top_class.view(-1)).cpu().numpy())\n",
    "            actual_labels+= list(labels.cpu().numpy())\n",
    "\n",
    "            pbar.set_postfix(loss=loss.data.item())\n",
    "\n",
    "        correct = ((np.array(pred_labels)==np.array(actual_labels)).sum())\n",
    "        total = len(valid_dataset)\n",
    "        accuracy = correct / total\n",
    "\n",
    "        tqdm.write(\"Epoch {} avg Valid loss: {:.3f}\".format(epoch + 1, valid_loss))\n",
    "        tqdm.write(\"Epoch {} Valid accuracy: {:.1%} ({} of {} right)\\n\".format(epoch + 1, accuracy, correct, total))\n",
    "\n",
    "    valid_losses.append(valid_loss)\n",
    "    valid_acc.append(accuracy)\n",
    "\n",
    "    # Save model if validation loss is the lowest\n",
    "    if len(valid_losses)>1 and (valid_loss<min(valid_losses[:-1])):\n",
    "        torch.save(model.state_dict(), f\"models/{params['lr']}_{params['image_size']}_{params['n_epochs']}_{params['dropout_rate']}.pth\")"
   ]
  },
  {
   "cell_type": "code",
   "execution_count": 15,
   "metadata": {},
   "outputs": [
    {
     "data": {
      "image/png": "[encoded data removed]",
      "text/plain": [
       "<Figure size 432x288 with 1 Axes>"
      ]
     },
     "metadata": {
      "needs_background": "light"
     },
     "output_type": "display_data"
    }
   ],
   "source": [
    "from matplotlib import pyplot as plt\n",
    "plt.plot(range(1, params[\"n_epochs\"]+1), train_losses, label=\"Train Loss\")\n",
    "plt.plot(range(1, params[\"n_epochs\"]+1), valid_losses, label=\"Validation Loss\")\n",
    "plt.plot(range(1, params[\"n_epochs\"]+1), valid_acc, label=\"Validation Accuracy\")\n",
    "plt.legend()\n",
    "plt.grid()\n",
    "plt.show()"
   ]
  },
  {
   "cell_type": "markdown",
   "metadata": {},
   "source": [
    "# 5. Model testing"
   ]
  },
  {
   "cell_type": "code",
   "execution_count": 16,
   "metadata": {},
   "outputs": [
    {
     "data": {
      "text/plain": [
       "VGG(\n",
       "  (features): Sequential(\n",
       "    (0): Conv2d(3, 64, kernel_size=(3, 3), stride=(1, 1), padding=(1, 1))\n",
       "    (1): ReLU(inplace=True)\n",
       "    (2): Conv2d(64, 64, kernel_size=(3, 3), stride=(1, 1), padding=(1, 1))\n",
       "    (3): ReLU(inplace=True)\n",
       "    (4): MaxPool2d(kernel_size=2, stride=2, padding=0, dilation=1, ceil_mode=False)\n",
       "    (5): Conv2d(64, 128, kernel_size=(3, 3), stride=(1, 1), padding=(1, 1))\n",
       "    (6): ReLU(inplace=True)\n",
       "    (7): Conv2d(128, 128, kernel_size=(3, 3), stride=(1, 1), padding=(1, 1))\n",
       "    (8): ReLU(inplace=True)\n",
       "    (9): MaxPool2d(kernel_size=2, stride=2, padding=0, dilation=1, ceil_mode=False)\n",
       "    (10): Conv2d(128, 256, kernel_size=(3, 3), stride=(1, 1), padding=(1, 1))\n",
       "    (11): ReLU(inplace=True)\n",
       "    (12): Conv2d(256, 256, kernel_size=(3, 3), stride=(1, 1), padding=(1, 1))\n",
       "    (13): ReLU(inplace=True)\n",
       "    (14): Conv2d(256, 256, kernel_size=(3, 3), stride=(1, 1), padding=(1, 1))\n",
       "    (15): ReLU(inplace=True)\n",
       "    (16): Conv2d(256, 256, kernel_size=(3, 3), stride=(1, 1), padding=(1, 1))\n",
       "    (17): ReLU(inplace=True)\n",
       "    (18): MaxPool2d(kernel_size=2, stride=2, padding=0, dilation=1, ceil_mode=False)\n",
       "    (19): Conv2d(256, 512, kernel_size=(3, 3), stride=(1, 1), padding=(1, 1))\n",
       "    (20): ReLU(inplace=True)\n",
       "    (21): Conv2d(512, 512, kernel_size=(3, 3), stride=(1, 1), padding=(1, 1))\n",
       "    (22): ReLU(inplace=True)\n",
       "    (23): Conv2d(512, 512, kernel_size=(3, 3), stride=(1, 1), padding=(1, 1))\n",
       "    (24): ReLU(inplace=True)\n",
       "    (25): Conv2d(512, 512, kernel_size=(3, 3), stride=(1, 1), padding=(1, 1))\n",
       "    (26): ReLU(inplace=True)\n",
       "    (27): MaxPool2d(kernel_size=2, stride=2, padding=0, dilation=1, ceil_mode=False)\n",
       "    (28): Conv2d(512, 512, kernel_size=(3, 3), stride=(1, 1), padding=(1, 1))\n",
       "    (29): ReLU(inplace=True)\n",
       "    (30): Conv2d(512, 512, kernel_size=(3, 3), stride=(1, 1), padding=(1, 1))\n",
       "    (31): ReLU(inplace=True)\n",
       "    (32): Conv2d(512, 512, kernel_size=(3, 3), stride=(1, 1), padding=(1, 1))\n",
       "    (33): ReLU(inplace=True)\n",
       "    (34): Conv2d(512, 512, kernel_size=(3, 3), stride=(1, 1), padding=(1, 1))\n",
       "    (35): ReLU(inplace=True)\n",
       "    (36): MaxPool2d(kernel_size=2, stride=2, padding=0, dilation=1, ceil_mode=False)\n",
       "  )\n",
       "  (avgpool): AdaptiveAvgPool2d(output_size=(7, 7))\n",
       "  (classifier): Sequential(\n",
       "    (0): Linear(in_features=25088, out_features=4096, bias=True)\n",
       "    (1): ReLU()\n",
       "    (2): Dropout(p=0.5, inplace=False)\n",
       "    (3): Linear(in_features=4096, out_features=4096, bias=True)\n",
       "    (4): ReLU()\n",
       "    (5): Dropout(p=0.5, inplace=False)\n",
       "    (6): Linear(in_features=4096, out_features=2, bias=True)\n",
       "  )\n",
       ")"
      ]
     },
     "execution_count": 16,
     "metadata": {},
     "output_type": "execute_result"
    }
   ],
   "source": [
    "model.load_state_dict(torch.load(f\"models/{params['lr']}_{params['image_size']}_{params['n_epochs']}_{params['dropout_rate']}.pth\"))\n",
    "model.eval()"
   ]
  },
  {
   "cell_type": "markdown",
   "metadata": {},
   "source": [
    "## Validation set"
   ]
  },
  {
   "cell_type": "code",
   "execution_count": 17,
   "metadata": {},
   "outputs": [
    {
     "name": "stderr",
     "output_type": "stream",
     "text": [
      "100%|██████████| 79/79 [00:37<00:00,  2.12batch/s, loss=0.00643]"
     ]
    },
    {
     "name": "stdout",
     "output_type": "stream",
     "text": [
      "Valid loss: 0.028\n",
      "Valid accuracy: 98.9% (4945 of 5000 right)\n",
      "\n"
     ]
    },
    {
     "name": "stderr",
     "output_type": "stream",
     "text": [
      "\n"
     ]
    }
   ],
   "source": [
    "# Validation\n",
    "running_loss = 0\n",
    "actual_labels = []\n",
    "pred_labels = []\n",
    "with tqdm(enumerate(valid_loader), total=len(valid_loader), unit=\"batch\") as pbar:\n",
    "    for step, (imgs, labels) in pbar:\n",
    "        imgs, labels = imgs.to(device), labels.to(device)\n",
    "        log_preds = model(imgs)\n",
    "        loss = loss_fn(log_preds, labels)\n",
    "\n",
    "        preds = probs(log_preds)\n",
    "        running_loss += ((1 / (step + 1)) * (loss.data.item() - running_loss))\n",
    "\n",
    "        # Calculate accuracy\n",
    "        top_prob, top_class = preds.topk(1, dim=1)\n",
    "        pred_labels += list((top_class.view(-1)).cpu().numpy())\n",
    "        actual_labels += list(labels.cpu().numpy())\n",
    "\n",
    "        pbar.set_postfix(loss=loss.data.item())\n",
    "\n",
    "    correct = ((np.array(pred_labels)==np.array(actual_labels)).sum())\n",
    "    total = len(actual_labels)\n",
    "    accuracy = correct / total\n",
    "\n",
    "    tqdm.write(\"Valid loss: {:.3f}\".format(running_loss))\n",
    "    tqdm.write(\"Valid accuracy: {:.1%} ({} of {} right)\\n\".format(accuracy, correct, total))"
   ]
  },
  {
   "cell_type": "markdown",
   "metadata": {},
   "source": [
    "## Test set"
   ]
  },
  {
   "cell_type": "code",
   "execution_count": 18,
   "metadata": {},
   "outputs": [],
   "source": [
    "# Custom Dataset class for test data\n",
    "class TestCatDogDataset(Dataset):\n",
    "    def __init__(self, image_paths, transform=None):\n",
    "        self.image_paths = image_paths\n",
    "        self.transform = transform\n",
    "\n",
    "    def __len__(self):\n",
    "        return len(self.image_paths)\n",
    "\n",
    "    def __getitem__(self, idx):\n",
    "        image_filepath = self.image_paths[idx]\n",
    "        image_filename = Path(image_filepath).stem\n",
    "        image = cv2.imread(image_filepath)\n",
    "        image = cv2.cvtColor(image, cv2.COLOR_BGR2RGB)\n",
    "\n",
    "        if self.transform is not None:\n",
    "            image = self.transform(image)\n",
    "\n",
    "        return image, image_filename"
   ]
  },
  {
   "cell_type": "code",
   "execution_count": 19,
   "metadata": {},
   "outputs": [],
   "source": [
    "test_dataset = TestCatDogDataset(test_image_paths, validation_transform)\n",
    "test_loader = DataLoader(test_dataset, batch_size=params[\"batch_size\"], shuffle=False)"
   ]
  },
  {
   "cell_type": "code",
   "execution_count": 20,
   "metadata": {},
   "outputs": [
    {
     "name": "stderr",
     "output_type": "stream",
     "text": [
      "100%|██████████| 8/8 [00:03<00:00,  2.01batch/s]\n"
     ]
    }
   ],
   "source": [
    "# Test\n",
    "pred_labels = []\n",
    "filename = []\n",
    "with tqdm(test_loader, total=len(test_loader), unit=\"batch\") as pbar:\n",
    "    for imgs, filenames in pbar:\n",
    "        imgs = imgs.to(device)\n",
    "        log_preds = model(imgs)\n",
    "\n",
    "        preds = probs(log_preds)\n",
    "\n",
    "        top_prob, top_class = preds.topk(1, dim=1)\n",
    "        pred_labels += list((top_class.view(-1)).cpu().numpy())\n",
    "        filename += filenames"
   ]
  },
  {
   "cell_type": "code",
   "execution_count": 21,
   "metadata": {},
   "outputs": [],
   "source": [
    "df = pd.DataFrame(list(zip(filename, pred_labels)),\n",
    "               columns=[\"id\", \"label\"])\n",
    "df[\"id\"] = pd.to_numeric(df[\"id\"])\n",
    "df = df.sort_values(by=[\"id\"])\n",
    "df.to_csv(\"submission.csv\", index=False)"
   ]
  },
  {
   "cell_type": "markdown",
   "metadata": {},
   "source": [
    "# 6. CIFAR-10 training"
   ]
  },
  {
   "cell_type": "code",
   "execution_count": 22,
   "metadata": {},
   "outputs": [],
   "source": [
    "train_transform = transforms.Compose(\n",
    "    [\n",
    "        transforms.RandomHorizontalFlip(),\n",
    "        transforms.RandomRotation(10),\n",
    "        transforms.Resize((params[\"image_size\"], params[\"image_size\"])),\n",
    "        transforms.ToTensor(),\n",
    "        transforms.Normalize(mean, std),\n",
    "    ]\n",
    ")\n",
    "\n",
    "validation_transform = transforms.Compose(\n",
    "    [\n",
    "        transforms.Resize((params[\"image_size\"], params[\"image_size\"])),\n",
    "        transforms.ToTensor(),\n",
    "        transforms.Normalize(mean, std),\n",
    "    ]\n",
    ")"
   ]
  },
  {
   "cell_type": "code",
   "execution_count": 23,
   "metadata": {},
   "outputs": [
    {
     "name": "stdout",
     "output_type": "stream",
     "text": [
      "Files already downloaded and verified\n",
      "Files already downloaded and verified\n"
     ]
    }
   ],
   "source": [
    "train_dataset = torchvision.datasets.CIFAR10(root=\"./data\", train=True,\n",
    "                                        download=True, transform=train_transform)\n",
    "\n",
    "train_loader = torch.utils.data.DataLoader(train_dataset, batch_size=params[\"batch_size\"],\n",
    "                                          shuffle=True)\n",
    "\n",
    "test_dataset = torchvision.datasets.CIFAR10(root=\"./data\", train=False,\n",
    "                                       download=True, transform=validation_transform)\n",
    "test_loader = torch.utils.data.DataLoader(test_dataset, batch_size=params[\"batch_size\"],\n",
    "                                         shuffle=False)\n",
    "\n",
    "classes = (\"plane\", \"car\", \"bird\", \"cat\", \"deer\", \"dog\", \"frog\", \"horse\", \"ship\", \"truck\")"
   ]
  },
  {
   "cell_type": "code",
   "execution_count": 24,
   "metadata": {},
   "outputs": [],
   "source": [
    "model = copy.deepcopy(cat_dog_model)\n",
    "model.classifier = torch.nn.Sequential(torch.nn.Linear(25088, 4096),\n",
    "                                       torch.nn.ReLU(),\n",
    "                                       torch.nn.Dropout(p=params[\"dropout_rate\"]),\n",
    "                                       torch.nn.Linear(4096, 4096),\n",
    "                                       torch.nn.ReLU(),\n",
    "                                       torch.nn.Dropout(p=params[\"dropout_rate\"]),\n",
    "                                       torch.nn.Linear(4096, 10))\n",
    "model.to(device)\n",
    "\n",
    "probs = torch.nn.Softmax(dim=1)\n",
    "loss_fn = torch.nn.CrossEntropyLoss()\n",
    "optimizer = torch.optim.SGD(model.classifier.parameters(), lr=params[\"lr\"])"
   ]
  },
  {
   "cell_type": "code",
   "execution_count": 25,
   "metadata": {},
   "outputs": [
    {
     "name": "stderr",
     "output_type": "stream",
     "text": [
      "Epoch 1/10: 100%|██████████| 782/782 [04:22<00:00,  2.98batch/s, loss=1.87]\n",
      "Epoch 1/10: 100%|██████████| 157/157 [00:49<00:00,  3.14batch/s, loss=1.8]\n"
     ]
    },
    {
     "name": "stdout",
     "output_type": "stream",
     "text": [
      "Epoch 1 avg Valid loss: 1.743\n",
      "Epoch 1 Valid accuracy: 56.1% (5610 of 10000 right)\n",
      "\n"
     ]
    },
    {
     "name": "stderr",
     "output_type": "stream",
     "text": [
      "Epoch 2/10: 100%|██████████| 782/782 [04:22<00:00,  2.98batch/s, loss=1.27]\n",
      "Epoch 2/10: 100%|██████████| 157/157 [00:50<00:00,  3.14batch/s, loss=1.13]\n"
     ]
    },
    {
     "name": "stdout",
     "output_type": "stream",
     "text": [
      "Epoch 2 avg Valid loss: 1.092\n",
      "Epoch 2 Valid accuracy: 71.0% (7103 of 10000 right)\n",
      "\n"
     ]
    },
    {
     "name": "stderr",
     "output_type": "stream",
     "text": [
      "Epoch 3/10: 100%|██████████| 782/782 [04:22<00:00,  2.97batch/s, loss=0.814]\n",
      "Epoch 3/10: 100%|██████████| 157/157 [00:49<00:00,  3.14batch/s, loss=0.778]\n"
     ]
    },
    {
     "name": "stdout",
     "output_type": "stream",
     "text": [
      "Epoch 3 avg Valid loss: 0.782\n",
      "Epoch 3 Valid accuracy: 77.5% (7749 of 10000 right)\n",
      "\n"
     ]
    },
    {
     "name": "stderr",
     "output_type": "stream",
     "text": [
      "Epoch 4/10: 100%|██████████| 782/782 [04:22<00:00,  2.98batch/s, loss=0.671]\n",
      "Epoch 4/10: 100%|██████████| 157/157 [00:49<00:00,  3.14batch/s, loss=0.594]\n"
     ]
    },
    {
     "name": "stdout",
     "output_type": "stream",
     "text": [
      "Epoch 4 avg Valid loss: 0.644\n",
      "Epoch 4 Valid accuracy: 79.8% (7985 of 10000 right)\n",
      "\n"
     ]
    },
    {
     "name": "stderr",
     "output_type": "stream",
     "text": [
      "Epoch 5/10: 100%|██████████| 782/782 [04:24<00:00,  2.96batch/s, loss=0.925]\n",
      "Epoch 5/10: 100%|██████████| 157/157 [00:49<00:00,  3.14batch/s, loss=0.511]\n"
     ]
    },
    {
     "name": "stdout",
     "output_type": "stream",
     "text": [
      "Epoch 5 avg Valid loss: 0.571\n",
      "Epoch 5 Valid accuracy: 81.5% (8153 of 10000 right)\n",
      "\n"
     ]
    },
    {
     "name": "stderr",
     "output_type": "stream",
     "text": [
      "Epoch 6/10: 100%|██████████| 782/782 [04:22<00:00,  2.98batch/s, loss=0.551]\n",
      "Epoch 6/10: 100%|██████████| 157/157 [00:50<00:00,  3.14batch/s, loss=0.441]\n"
     ]
    },
    {
     "name": "stdout",
     "output_type": "stream",
     "text": [
      "Epoch 6 avg Valid loss: 0.526\n",
      "Epoch 6 Valid accuracy: 82.7% (8274 of 10000 right)\n",
      "\n"
     ]
    },
    {
     "name": "stderr",
     "output_type": "stream",
     "text": [
      "Epoch 7/10: 100%|██████████| 782/782 [04:23<00:00,  2.97batch/s, loss=0.418]\n",
      "Epoch 7/10: 100%|██████████| 157/157 [00:49<00:00,  3.14batch/s, loss=0.389]\n"
     ]
    },
    {
     "name": "stdout",
     "output_type": "stream",
     "text": [
      "Epoch 7 avg Valid loss: 0.499\n",
      "Epoch 7 Valid accuracy: 83.2% (8315 of 10000 right)\n",
      "\n"
     ]
    },
    {
     "name": "stderr",
     "output_type": "stream",
     "text": [
      "Epoch 8/10: 100%|██████████| 782/782 [04:22<00:00,  2.97batch/s, loss=0.512]\n",
      "Epoch 8/10: 100%|██████████| 157/157 [00:49<00:00,  3.14batch/s, loss=0.375]\n"
     ]
    },
    {
     "name": "stdout",
     "output_type": "stream",
     "text": [
      "Epoch 8 avg Valid loss: 0.479\n",
      "Epoch 8 Valid accuracy: 83.4% (8343 of 10000 right)\n",
      "\n"
     ]
    },
    {
     "name": "stderr",
     "output_type": "stream",
     "text": [
      "Epoch 9/10: 100%|██████████| 782/782 [04:22<00:00,  2.98batch/s, loss=0.657]\n",
      "Epoch 9/10: 100%|██████████| 157/157 [00:49<00:00,  3.14batch/s, loss=0.37]\n"
     ]
    },
    {
     "name": "stdout",
     "output_type": "stream",
     "text": [
      "Epoch 9 avg Valid loss: 0.462\n",
      "Epoch 9 Valid accuracy: 83.9% (8392 of 10000 right)\n",
      "\n"
     ]
    },
    {
     "name": "stderr",
     "output_type": "stream",
     "text": [
      "Epoch 10/10: 100%|██████████| 782/782 [04:22<00:00,  2.98batch/s, loss=0.291]\n",
      "Epoch 10/10: 100%|██████████| 157/157 [00:49<00:00,  3.14batch/s, loss=0.349]\n"
     ]
    },
    {
     "name": "stdout",
     "output_type": "stream",
     "text": [
      "Epoch 10 avg Valid loss: 0.448\n",
      "Epoch 10 Valid accuracy: 84.4% (8436 of 10000 right)\n",
      "\n"
     ]
    }
   ],
   "source": [
    "train_losses = []\n",
    "valid_losses = []\n",
    "valid_acc = []\n",
    "for epoch in range(params[\"n_epochs\"]):\n",
    "    # Train\n",
    "    train_loss = 0.0\n",
    "    model.train()\n",
    "    with tqdm(enumerate(train_loader), total=len(train_loader), unit=\"batch\") as pbar:\n",
    "        for step, (imgs, labels) in pbar:\n",
    "            pbar.set_description(\"Epoch {}/{}\".format(epoch+1, params[\"n_epochs\"]))\n",
    "\n",
    "            imgs, labels = imgs.to(device), labels.to(device)\n",
    "            optimizer.zero_grad()\n",
    "            log_preds = model(imgs)\n",
    "            loss = loss_fn(log_preds, labels)\n",
    "            loss.backward()\n",
    "\n",
    "            optimizer.step()\n",
    "\n",
    "            train_loss += ((1 / (step + 1)) * (loss.data.item() - train_loss))\n",
    "\n",
    "            pbar.set_postfix(loss=loss.data.item())\n",
    "    train_losses.append(train_loss)\n",
    "\n",
    "    # Validation\n",
    "    valid_loss = 0\n",
    "    actual_labels = []\n",
    "    pred_labels = []\n",
    "    model.eval()\n",
    "    with tqdm(enumerate(test_loader), total=len(test_loader), unit=\"batch\") as pbar:\n",
    "        for step, (imgs, labels) in pbar:\n",
    "            pbar.set_description(f\"Epoch {epoch+1}/{params['n_epochs']}\")  \n",
    "            imgs, labels = imgs.to(device), labels.to(device)\n",
    "            log_preds = model(imgs)\n",
    "            loss = loss_fn(log_preds, labels)\n",
    "\n",
    "            preds = probs(log_preds)\n",
    "            valid_loss+=((1 / (step + 1)) * (loss.data.item() - valid_loss))\n",
    "\n",
    "            # Calculate accuracy\n",
    "            top_prob, top_class = preds.topk(1, dim=1)\n",
    "            pred_labels+= list((top_class.view(-1)).cpu().numpy())\n",
    "            actual_labels+= list(labels.cpu().numpy())\n",
    "\n",
    "            pbar.set_postfix(loss=loss.data.item())\n",
    "\n",
    "        correct = (np.array(pred_labels)==np.array(actual_labels)).sum()\n",
    "        total = len(actual_labels)\n",
    "        accuracy = correct / total\n",
    "\n",
    "        tqdm.write(\"Epoch {} avg Valid loss: {:.3f}\".format(epoch + 1, valid_loss))\n",
    "        tqdm.write(\"Epoch {} Valid accuracy: {:.1%} ({} of {} right)\\n\".format(epoch + 1, accuracy, correct, total))\n",
    "\n",
    "    valid_losses.append(valid_loss)\n",
    "    valid_acc.append(accuracy)\n",
    "\n",
    "    if len(valid_losses)>1 and (valid_loss<min(valid_losses[:-1])):\n",
    "        torch.save(model.state_dict(), f\"models/cifar_10_{params['lr']}_{params['image_size']}_{params['n_epochs']}_{params['dropout_rate']}.pth\")"
   ]
  },
  {
   "cell_type": "code",
   "execution_count": 26,
   "metadata": {},
   "outputs": [
    {
     "data": {
      "image/png": "[encoded data removed]",
      "text/plain": [
       "<Figure size 432x288 with 1 Axes>"
      ]
     },
     "metadata": {
      "needs_background": "light"
     },
     "output_type": "display_data"
    }
   ],
   "source": [
    "from matplotlib import pyplot as plt\n",
    "plt.plot(range(1, params[\"n_epochs\"]+1), train_losses, label=\"Train Loss\")\n",
    "plt.plot(range(1, params[\"n_epochs\"]+1), valid_losses, label=\"Validation Loss\")\n",
    "plt.plot(range(1, params[\"n_epochs\"]+1), valid_acc, label=\"Validation Accuracy\")\n",
    "plt.legend()\n",
    "plt.grid()\n",
    "plt.show()"
   ]
  },
  {
   "cell_type": "markdown",
   "metadata": {},
   "source": [
    "# 7. CIFAR-10 testing"
   ]
  },
  {
   "cell_type": "code",
   "execution_count": 27,
   "metadata": {},
   "outputs": [
    {
     "data": {
      "text/plain": [
       "VGG(\n",
       "  (features): Sequential(\n",
       "    (0): Conv2d(3, 64, kernel_size=(3, 3), stride=(1, 1), padding=(1, 1))\n",
       "    (1): ReLU(inplace=True)\n",
       "    (2): Conv2d(64, 64, kernel_size=(3, 3), stride=(1, 1), padding=(1, 1))\n",
       "    (3): ReLU(inplace=True)\n",
       "    (4): MaxPool2d(kernel_size=2, stride=2, padding=0, dilation=1, ceil_mode=False)\n",
       "    (5): Conv2d(64, 128, kernel_size=(3, 3), stride=(1, 1), padding=(1, 1))\n",
       "    (6): ReLU(inplace=True)\n",
       "    (7): Conv2d(128, 128, kernel_size=(3, 3), stride=(1, 1), padding=(1, 1))\n",
       "    (8): ReLU(inplace=True)\n",
       "    (9): MaxPool2d(kernel_size=2, stride=2, padding=0, dilation=1, ceil_mode=False)\n",
       "    (10): Conv2d(128, 256, kernel_size=(3, 3), stride=(1, 1), padding=(1, 1))\n",
       "    (11): ReLU(inplace=True)\n",
       "    (12): Conv2d(256, 256, kernel_size=(3, 3), stride=(1, 1), padding=(1, 1))\n",
       "    (13): ReLU(inplace=True)\n",
       "    (14): Conv2d(256, 256, kernel_size=(3, 3), stride=(1, 1), padding=(1, 1))\n",
       "    (15): ReLU(inplace=True)\n",
       "    (16): Conv2d(256, 256, kernel_size=(3, 3), stride=(1, 1), padding=(1, 1))\n",
       "    (17): ReLU(inplace=True)\n",
       "    (18): MaxPool2d(kernel_size=2, stride=2, padding=0, dilation=1, ceil_mode=False)\n",
       "    (19): Conv2d(256, 512, kernel_size=(3, 3), stride=(1, 1), padding=(1, 1))\n",
       "    (20): ReLU(inplace=True)\n",
       "    (21): Conv2d(512, 512, kernel_size=(3, 3), stride=(1, 1), padding=(1, 1))\n",
       "    (22): ReLU(inplace=True)\n",
       "    (23): Conv2d(512, 512, kernel_size=(3, 3), stride=(1, 1), padding=(1, 1))\n",
       "    (24): ReLU(inplace=True)\n",
       "    (25): Conv2d(512, 512, kernel_size=(3, 3), stride=(1, 1), padding=(1, 1))\n",
       "    (26): ReLU(inplace=True)\n",
       "    (27): MaxPool2d(kernel_size=2, stride=2, padding=0, dilation=1, ceil_mode=False)\n",
       "    (28): Conv2d(512, 512, kernel_size=(3, 3), stride=(1, 1), padding=(1, 1))\n",
       "    (29): ReLU(inplace=True)\n",
       "    (30): Conv2d(512, 512, kernel_size=(3, 3), stride=(1, 1), padding=(1, 1))\n",
       "    (31): ReLU(inplace=True)\n",
       "    (32): Conv2d(512, 512, kernel_size=(3, 3), stride=(1, 1), padding=(1, 1))\n",
       "    (33): ReLU(inplace=True)\n",
       "    (34): Conv2d(512, 512, kernel_size=(3, 3), stride=(1, 1), padding=(1, 1))\n",
       "    (35): ReLU(inplace=True)\n",
       "    (36): MaxPool2d(kernel_size=2, stride=2, padding=0, dilation=1, ceil_mode=False)\n",
       "  )\n",
       "  (avgpool): AdaptiveAvgPool2d(output_size=(7, 7))\n",
       "  (classifier): Sequential(\n",
       "    (0): Linear(in_features=25088, out_features=4096, bias=True)\n",
       "    (1): ReLU()\n",
       "    (2): Dropout(p=0.5, inplace=False)\n",
       "    (3): Linear(in_features=4096, out_features=4096, bias=True)\n",
       "    (4): ReLU()\n",
       "    (5): Dropout(p=0.5, inplace=False)\n",
       "    (6): Linear(in_features=4096, out_features=10, bias=True)\n",
       "  )\n",
       ")"
      ]
     },
     "execution_count": 27,
     "metadata": {},
     "output_type": "execute_result"
    }
   ],
   "source": [
    "model.load_state_dict(torch.load(f\"models/cifar_10_{params['lr']}_{params['image_size']}_{params['n_epochs']}_{params['dropout_rate']}.pth\"))\n",
    "model.eval()"
   ]
  },
  {
   "cell_type": "code",
   "execution_count": 28,
   "metadata": {},
   "outputs": [
    {
     "name": "stderr",
     "output_type": "stream",
     "text": [
      "100%|██████████| 157/157 [00:51<00:00,  3.07batch/s]\n"
     ]
    }
   ],
   "source": [
    "# Test\n",
    "correct_pred = {classname: 0 for classname in classes}\n",
    "total_pred = {classname: 0 for classname in classes}\n",
    "model.eval()\n",
    "\n",
    "with tqdm(test_loader, total=len(test_loader), unit=\"batch\") as pbar:\n",
    "    for imgs, labels in pbar:\n",
    "        imgs, labels = imgs.to(device), labels.to(device)\n",
    "        log_preds = model(imgs)\n",
    "        loss = loss_fn(log_preds, labels)\n",
    "\n",
    "        preds = probs(log_preds)\n",
    "\n",
    "        top_prob, top_class = preds.topk(1, dim=1)\n",
    "\n",
    "        for label, prediction in zip(labels, top_class):\n",
    "            if label == prediction:\n",
    "                correct_pred[classes[label]] += 1\n",
    "            total_pred[classes[label]] += 1"
   ]
  },
  {
   "cell_type": "code",
   "execution_count": 29,
   "metadata": {},
   "outputs": [
    {
     "name": "stdout",
     "output_type": "stream",
     "text": [
      "{'plane': 846, 'car': 920, 'bird': 746, 'cat': 725, 'deer': 829, 'dog': 769, 'frog': 913, 'horse': 855, 'ship': 925, 'truck': 908}\n",
      "{'plane': 1000, 'car': 1000, 'bird': 1000, 'cat': 1000, 'deer': 1000, 'dog': 1000, 'frog': 1000, 'horse': 1000, 'ship': 1000, 'truck': 1000}\n"
     ]
    }
   ],
   "source": [
    "print(correct_pred)\n",
    "print(total_pred)"
   ]
  },
  {
   "cell_type": "code",
   "execution_count": 30,
   "metadata": {},
   "outputs": [
    {
     "name": "stdout",
     "output_type": "stream",
     "text": [
      "Accuracy for class plane is: 84.6 %\n",
      "Accuracy for class car   is: 92.0 %\n",
      "Accuracy for class bird  is: 74.6 %\n",
      "Accuracy for class cat   is: 72.5 %\n",
      "Accuracy for class deer  is: 82.9 %\n",
      "Accuracy for class dog   is: 76.9 %\n",
      "Accuracy for class frog  is: 91.3 %\n",
      "Accuracy for class horse is: 85.5 %\n",
      "Accuracy for class ship  is: 92.5 %\n",
      "Accuracy for class truck is: 90.8 %\n",
      "Test accuracy: 84.4% (8436 of 10000 right)\n",
      "\n"
     ]
    }
   ],
   "source": [
    "# Print accuracy for each class\n",
    "for classname, correct_count in correct_pred.items():\n",
    "    accuracy = 100 * float(correct_count) / total_pred[classname]\n",
    "    print(\"Accuracy for class {:5s} is: {:.1f} %\".format(classname, accuracy))\n",
    "\n",
    "correct = sum(correct_pred.values())\n",
    "total = sum(total_pred.values())\n",
    "accuracy = correct / total\n",
    "\n",
    "print(\"Test accuracy: {:.1%} ({} of {} right)\\n\".format(accuracy, correct, total))"
   ]
  }
 ],
 "metadata": {
  "interpreter": {
   "hash": "89ea3e921d5f22d2b46ed8b2b66b1aa063d1552fc9c096c0e74c45a505ca44a9"
  },
  "kernelspec": {
   "display_name": "Python 3.9.6 64-bit ('env': venv)",
   "language": "python",
   "name": "python3"
  },
  "language_info": {
   "codemirror_mode": {
    "name": "ipython",
    "version": 3
   },
   "file_extension": ".py",
   "mimetype": "text/x-python",
   "name": "python",
   "nbconvert_exporter": "python",
   "pygments_lexer": "ipython3",
   "version": "3.9.6"
  },
  "orig_nbformat": 4
 },
 "nbformat": 4,
 "nbformat_minor": 2
}
