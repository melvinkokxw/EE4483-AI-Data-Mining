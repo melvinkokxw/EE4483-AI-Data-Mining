{
 "cells": [
  {
   "cell_type": "markdown",
   "metadata": {},
   "source": [
    "# EE4483 Mini Project (Option 2): Cats vs Dogs\n",
    "\n",
    "Name: Melvin Kok Xinwei\n",
    "Matriculation Number: U1820030C\n",
    "\n",
    "## Overview\n",
    "1. Data exploration\n",
    "2. Loading and processing data\n",
    "3. Model selection\n",
    "4. Model training\n",
    "5. Model testing\n",
    "6. CIFAR-10 training\n",
    "7. CIFAR-10 testing"
   ]
  },
  {
   "cell_type": "markdown",
   "metadata": {},
   "source": [
    "# Setup environment"
   ]
  },
  {
   "cell_type": "code",
   "execution_count": 47,
   "metadata": {},
   "outputs": [],
   "source": [
    "import copy\n",
    "import glob\n",
    "import os\n",
    "import random\n",
    "from pathlib import Path\n",
    "\n",
    "import cv2\n",
    "import matplotlib.pyplot as plt\n",
    "import numpy as np\n",
    "import pandas as pd\n",
    "import torch\n",
    "import torchvision\n",
    "import torchvision.transforms as transforms\n",
    "from pandas.core.common import flatten\n",
    "from torch.utils.data import DataLoader, Dataset\n",
    "from tqdm import tqdm\n",
    "\n",
    "%matplotlib inline\n"
   ]
  },
  {
   "cell_type": "code",
   "execution_count": 48,
   "metadata": {},
   "outputs": [],
   "source": [
    "device = torch.device(\"cuda\" if torch.cuda.is_available() else \"cpu\")\n",
    "separator = os.path.sep"
   ]
  },
  {
   "cell_type": "code",
   "execution_count": 49,
   "metadata": {},
   "outputs": [],
   "source": [
    "params = {\n",
    "    \"lr\": 0.001,\n",
    "    \"batch_size\": 64,\n",
    "    \"n_epochs\": 10,\n",
    "    \"image_size\": 224,\n",
    "    \"dropout_rate\": 0.5,\n",
    "}"
   ]
  },
  {
   "cell_type": "markdown",
   "metadata": {},
   "source": [
    "# 1. Data exploration\n",
    "\n",
    "Place `datasets` in same directory as notebook"
   ]
  },
  {
   "cell_type": "code",
   "execution_count": 50,
   "metadata": {},
   "outputs": [],
   "source": [
    "# Define main directories\n",
    "base_dir = \"datasets\"\n",
    "train_dir = os.path.join(base_dir, \"train\")\n",
    "validation_dir = os.path.join(base_dir, \"val\")\n",
    "test_dir = os.path.join(base_dir, \"test\")"
   ]
  },
  {
   "cell_type": "code",
   "execution_count": 51,
   "metadata": {},
   "outputs": [
    {
     "name": "stdout",
     "output_type": "stream",
     "text": [
      "train_image_path example:  datasets\\train\\cat\\cat.7784.jpg\n",
      "validation_image_path example:  datasets\\val\\cat\\cat.4347.jpg\n",
      "test_image_path example:  datasets\\test\\1.jpg\n"
     ]
    }
   ],
   "source": [
    "# Paths for training images\n",
    "train_image_paths = []\n",
    "train_classes = {}\n",
    "\n",
    "for data_path in glob.glob(train_dir + separator + \"*\"):\n",
    "    images = glob.glob(data_path + separator + \"*\")\n",
    "    train_classes[data_path.split(separator)[-1]] = len(images)\n",
    "    train_image_paths.append(images)\n",
    "\n",
    "train_image_paths = list(flatten(train_image_paths))\n",
    "random.shuffle(train_image_paths)\n",
    "\n",
    "# Paths for validation images\n",
    "validation_image_paths = []\n",
    "validation_classes = {}\n",
    "\n",
    "for data_path in glob.glob(validation_dir + separator + \"*\"):\n",
    "    images = glob.glob(data_path + separator + \"*\")\n",
    "    validation_classes[data_path.split(separator)[-1]] = len(images)\n",
    "    validation_image_paths.append(images)\n",
    "\n",
    "validation_image_paths = list(flatten(validation_image_paths))\n",
    "random.shuffle(validation_image_paths)\n",
    "\n",
    "# Paths for test images\n",
    "test_image_paths = []\n",
    "for data_path in glob.glob(test_dir + separator + \"*\"):\n",
    "    test_image_paths.append(data_path)\n",
    "\n",
    "test_image_paths = list(flatten(test_image_paths))\n",
    "\n",
    "print(\"train_image_path example: \", train_image_paths[0])\n",
    "print(\"validation_image_path example: \", validation_image_paths[0])\n",
    "print(\"test_image_path example: \", test_image_paths[0])"
   ]
  },
  {
   "cell_type": "code",
   "execution_count": 52,
   "metadata": {},
   "outputs": [
    {
     "name": "stdout",
     "output_type": "stream",
     "text": [
      "Train class cat, data size 10000\n",
      "Train class dog, data size 10000\n",
      "Validation class cat, data size 2500\n",
      "Validation class dog, data size 2500\n",
      "Test size: 500\n"
     ]
    }
   ],
   "source": [
    "for key, value in train_classes.items():\n",
    "    print(f\"Train class {key}, data size {value}\")\n",
    "\n",
    "for key, value in validation_classes.items():\n",
    "    print(f\"Validation class {key}, data size {value}\")\n",
    "\n",
    "print(f\"Test size: {len(test_image_paths)}\")"
   ]
  },
  {
   "cell_type": "markdown",
   "metadata": {},
   "source": [
    "# 2. Loading and processing data"
   ]
  },
  {
   "cell_type": "code",
   "execution_count": 53,
   "metadata": {},
   "outputs": [],
   "source": [
    "# Class to index mappings\n",
    "idx_to_class = {i:j for i, j in enumerate(train_classes)}\n",
    "class_to_idx = {value:key for key,value in idx_to_class.items()}\n",
    "\n",
    "# Custom Dataset class\n",
    "class CatDogDataset(Dataset):\n",
    "    def __init__(self, image_paths, class_to_idx, transform=False):\n",
    "        self.image_paths = image_paths\n",
    "        self.transform = transform\n",
    "        self.class_to_idx = class_to_idx\n",
    "\n",
    "    def __len__(self):\n",
    "        return len(self.image_paths)\n",
    "\n",
    "    def __getitem__(self, idx):\n",
    "        image_filepath = self.image_paths[idx]\n",
    "        image = cv2.imread(image_filepath)\n",
    "        image = cv2.cvtColor(image, cv2.COLOR_BGR2RGB)\n",
    "\n",
    "        label = image_filepath.split(separator)[-2]\n",
    "        label = self.class_to_idx[label]\n",
    "        if self.transform is not None:\n",
    "            image = self.transform(image)\n",
    "\n",
    "        return image, label"
   ]
  },
  {
   "cell_type": "code",
   "execution_count": 54,
   "metadata": {},
   "outputs": [],
   "source": [
    "# Pre-calculated values, use this to save on time\n",
    "# mean = [0.48846444487571716, 0.45509546995162964, 0.4170514643192291]\n",
    "# std = [0.23550905287265778, 0.23108406364917755, 0.23146183788776398]\n",
    "\n",
    "# Get mean and std of dataset\n",
    "transform = transforms.Compose(\n",
    "    [\n",
    "        transforms.ToPILImage(),\n",
    "        transforms.ToTensor(),\n",
    "    ]\n",
    ")\n",
    "\n",
    "dataset = CatDogDataset(train_image_paths, class_to_idx, transform)\n",
    "\n",
    "means = []\n",
    "vars = []\n",
    "for img, _ in tqdm(dataset):\n",
    "    means.append(torch.mean(img, [1, 2]))\n",
    "    vars.append(torch.var(img, [1, 2]))\n",
    "\n",
    "mean = torch.mean(torch.stack(means), 0)\n",
    "var = torch.mean(torch.stack(vars), 0)\n",
    "std = torch.sqrt(var)\n",
    "\n",
    "mean = mean.tolist()\n",
    "std = std.tolist()\n",
    "print(mean)\n",
    "print(std)"
   ]
  },
  {
   "cell_type": "code",
   "execution_count": 55,
   "metadata": {},
   "outputs": [],
   "source": [
    "# Image augmentations and pre-processing\n",
    "train_transform = transforms.Compose(\n",
    "    [\n",
    "        transforms.ToPILImage(),\n",
    "        transforms.RandomResizedCrop(params[\"image_size\"]),\n",
    "        transforms.RandomHorizontalFlip(),\n",
    "        transforms.ToTensor(),\n",
    "        transforms.Normalize(mean, std),\n",
    "    ]\n",
    ")\n",
    "\n",
    "validation_transform = transforms.Compose(\n",
    "    [\n",
    "        transforms.ToPILImage(),\n",
    "        transforms.Resize((params[\"image_size\"], params[\"image_size\"])),\n",
    "        transforms.ToTensor(),\n",
    "        transforms.Normalize(mean, std),\n",
    "    ]\n",
    ")"
   ]
  },
  {
   "cell_type": "code",
   "execution_count": 56,
   "metadata": {},
   "outputs": [],
   "source": [
    "train_dataset = CatDogDataset(train_image_paths, class_to_idx, train_transform)\n",
    "valid_dataset = CatDogDataset(validation_image_paths, class_to_idx, validation_transform)"
   ]
  },
  {
   "cell_type": "code",
   "execution_count": 57,
   "metadata": {},
   "outputs": [],
   "source": [
    "train_loader = DataLoader(train_dataset, batch_size=params[\"batch_size\"], shuffle=True)\n",
    "valid_loader = DataLoader(valid_dataset, batch_size=params[\"batch_size\"], shuffle=False)"
   ]
  },
  {
   "cell_type": "markdown",
   "metadata": {},
   "source": [
    "# 3. Model selection"
   ]
  },
  {
   "cell_type": "code",
   "execution_count": 59,
   "metadata": {},
   "outputs": [
    {
     "name": "stdout",
     "output_type": "stream",
     "text": [
      "VGG(\n",
      "  (features): Sequential(\n",
      "    (0): Conv2d(3, 64, kernel_size=(3, 3), stride=(1, 1), padding=(1, 1))\n",
      "    (1): ReLU(inplace=True)\n",
      "    (2): Conv2d(64, 64, kernel_size=(3, 3), stride=(1, 1), padding=(1, 1))\n",
      "    (3): ReLU(inplace=True)\n",
      "    (4): MaxPool2d(kernel_size=2, stride=2, padding=0, dilation=1, ceil_mode=False)\n",
      "    (5): Conv2d(64, 128, kernel_size=(3, 3), stride=(1, 1), padding=(1, 1))\n",
      "    (6): ReLU(inplace=True)\n",
      "    (7): Conv2d(128, 128, kernel_size=(3, 3), stride=(1, 1), padding=(1, 1))\n",
      "    (8): ReLU(inplace=True)\n",
      "    (9): MaxPool2d(kernel_size=2, stride=2, padding=0, dilation=1, ceil_mode=False)\n",
      "    (10): Conv2d(128, 256, kernel_size=(3, 3), stride=(1, 1), padding=(1, 1))\n",
      "    (11): ReLU(inplace=True)\n",
      "    (12): Conv2d(256, 256, kernel_size=(3, 3), stride=(1, 1), padding=(1, 1))\n",
      "    (13): ReLU(inplace=True)\n",
      "    (14): Conv2d(256, 256, kernel_size=(3, 3), stride=(1, 1), padding=(1, 1))\n",
      "    (15): ReLU(inplace=True)\n",
      "    (16): Conv2d(256, 256, kernel_size=(3, 3), stride=(1, 1), padding=(1, 1))\n",
      "    (17): ReLU(inplace=True)\n",
      "    (18): MaxPool2d(kernel_size=2, stride=2, padding=0, dilation=1, ceil_mode=False)\n",
      "    (19): Conv2d(256, 512, kernel_size=(3, 3), stride=(1, 1), padding=(1, 1))\n",
      "    (20): ReLU(inplace=True)\n",
      "    (21): Conv2d(512, 512, kernel_size=(3, 3), stride=(1, 1), padding=(1, 1))\n",
      "    (22): ReLU(inplace=True)\n",
      "    (23): Conv2d(512, 512, kernel_size=(3, 3), stride=(1, 1), padding=(1, 1))\n",
      "    (24): ReLU(inplace=True)\n",
      "    (25): Conv2d(512, 512, kernel_size=(3, 3), stride=(1, 1), padding=(1, 1))\n",
      "    (26): ReLU(inplace=True)\n",
      "    (27): MaxPool2d(kernel_size=2, stride=2, padding=0, dilation=1, ceil_mode=False)\n",
      "    (28): Conv2d(512, 512, kernel_size=(3, 3), stride=(1, 1), padding=(1, 1))\n",
      "    (29): ReLU(inplace=True)\n",
      "    (30): Conv2d(512, 512, kernel_size=(3, 3), stride=(1, 1), padding=(1, 1))\n",
      "    (31): ReLU(inplace=True)\n",
      "    (32): Conv2d(512, 512, kernel_size=(3, 3), stride=(1, 1), padding=(1, 1))\n",
      "    (33): ReLU(inplace=True)\n",
      "    (34): Conv2d(512, 512, kernel_size=(3, 3), stride=(1, 1), padding=(1, 1))\n",
      "    (35): ReLU(inplace=True)\n",
      "    (36): MaxPool2d(kernel_size=2, stride=2, padding=0, dilation=1, ceil_mode=False)\n",
      "  )\n",
      "  (avgpool): AdaptiveAvgPool2d(output_size=(7, 7))\n",
      "  (classifier): Sequential(\n",
      "    (0): Linear(in_features=25088, out_features=4096, bias=True)\n",
      "    (1): ReLU(inplace=True)\n",
      "    (2): Dropout(p=0.5, inplace=False)\n",
      "    (3): Linear(in_features=4096, out_features=4096, bias=True)\n",
      "    (4): ReLU(inplace=True)\n",
      "    (5): Dropout(p=0.5, inplace=False)\n",
      "    (6): Linear(in_features=4096, out_features=1000, bias=True)\n",
      "  )\n",
      ")\n"
     ]
    }
   ],
   "source": [
    "cat_dog_model = torchvision.models.vgg19(pretrained=True)\n",
    "print(cat_dog_model)"
   ]
  },
  {
   "cell_type": "code",
   "execution_count": 60,
   "metadata": {},
   "outputs": [],
   "source": [
    "# Freeze layers in model\n",
    "for param in cat_dog_model.parameters():\n",
    "    param.requires_grad = False\n",
    "\n",
    "cat_dog_model.classifier = torch.nn.Sequential(torch.nn.Linear(25088, 4096),\n",
    "                                               torch.nn.ReLU(),\n",
    "                                               torch.nn.Dropout(p=params[\"dropout_rate\"]),\n",
    "                                               torch.nn.Linear(4096, 4096),\n",
    "                                               torch.nn.ReLU(),\n",
    "                                               torch.nn.Dropout(p=params[\"dropout_rate\"]),\n",
    "                                               torch.nn.Linear(4096, 2))\n",
    "\n",
    "# Unfreeze classifier\n",
    "for param in cat_dog_model.classifier.parameters():\n",
    "    param.requires_grad = True\n",
    "\n",
    "model = copy.deepcopy(cat_dog_model)\n",
    "\n",
    "model.to(device)\n",
    "\n",
    "probs = torch.nn.Softmax(dim=1)\n",
    "loss_fn = torch.nn.CrossEntropyLoss()\n",
    "optimizer = torch.optim.SGD(model.classifier.parameters(), lr=params[\"lr\"])"
   ]
  },
  {
   "cell_type": "markdown",
   "metadata": {},
   "source": [
    "# 4. Model training"
   ]
  },
  {
   "cell_type": "code",
   "execution_count": 61,
   "metadata": {},
   "outputs": [
    {
     "name": "stderr",
     "output_type": "stream",
     "text": [
      "Epoch 1/10: 100%|██████████| 313/313 [02:50<00:00,  1.84batch/s, loss=0.197]\n",
      "Epoch 1/10: 100%|██████████| 79/79 [00:41<00:00,  1.92batch/s, loss=0.159]\n"
     ]
    },
    {
     "name": "stdout",
     "output_type": "stream",
     "text": [
      "Epoch 1 avg Valid loss: 0.098\n",
      "Epoch 1 Valid accuracy: 98.3% (4915 of 5000 right)\n",
      "\n"
     ]
    },
    {
     "name": "stderr",
     "output_type": "stream",
     "text": [
      "Epoch 2/10: 100%|██████████| 313/313 [02:37<00:00,  1.99batch/s, loss=0.216]\n",
      "Epoch 2/10: 100%|██████████| 79/79 [00:38<00:00,  2.06batch/s, loss=0.114]\n"
     ]
    },
    {
     "name": "stdout",
     "output_type": "stream",
     "text": [
      "Epoch 2 avg Valid loss: 0.050\n",
      "Epoch 2 Valid accuracy: 98.5% (4927 of 5000 right)\n",
      "\n"
     ]
    },
    {
     "name": "stderr",
     "output_type": "stream",
     "text": [
      "Epoch 3/10: 100%|██████████| 313/313 [02:36<00:00,  2.00batch/s, loss=0.411]\n",
      "Epoch 3/10: 100%|██████████| 79/79 [00:38<00:00,  2.05batch/s, loss=0.108]\n"
     ]
    },
    {
     "name": "stdout",
     "output_type": "stream",
     "text": [
      "Epoch 3 avg Valid loss: 0.038\n",
      "Epoch 3 Valid accuracy: 98.7% (4937 of 5000 right)\n",
      "\n"
     ]
    },
    {
     "name": "stderr",
     "output_type": "stream",
     "text": [
      "Epoch 4/10: 100%|██████████| 313/313 [02:38<00:00,  1.98batch/s, loss=0.0208]\n",
      "Epoch 4/10: 100%|██████████| 79/79 [00:38<00:00,  2.03batch/s, loss=0.0989]\n"
     ]
    },
    {
     "name": "stdout",
     "output_type": "stream",
     "text": [
      "Epoch 4 avg Valid loss: 0.034\n",
      "Epoch 4 Valid accuracy: 98.9% (4946 of 5000 right)\n",
      "\n"
     ]
    },
    {
     "name": "stderr",
     "output_type": "stream",
     "text": [
      "Epoch 5/10: 100%|██████████| 313/313 [02:37<00:00,  1.99batch/s, loss=0.198]\n",
      "Epoch 5/10: 100%|██████████| 79/79 [00:39<00:00,  2.02batch/s, loss=0.0804]\n"
     ]
    },
    {
     "name": "stdout",
     "output_type": "stream",
     "text": [
      "Epoch 5 avg Valid loss: 0.031\n",
      "Epoch 5 Valid accuracy: 99.0% (4949 of 5000 right)\n",
      "\n"
     ]
    },
    {
     "name": "stderr",
     "output_type": "stream",
     "text": [
      "Epoch 6/10: 100%|██████████| 313/313 [02:36<00:00,  2.00batch/s, loss=0.131]\n",
      "Epoch 6/10: 100%|██████████| 79/79 [00:39<00:00,  2.00batch/s, loss=0.0496]\n"
     ]
    },
    {
     "name": "stdout",
     "output_type": "stream",
     "text": [
      "Epoch 6 avg Valid loss: 0.030\n",
      "Epoch 6 Valid accuracy: 99.0% (4949 of 5000 right)\n",
      "\n"
     ]
    },
    {
     "name": "stderr",
     "output_type": "stream",
     "text": [
      "Epoch 7/10: 100%|██████████| 313/313 [02:36<00:00,  2.00batch/s, loss=0.116]\n",
      "Epoch 7/10: 100%|██████████| 79/79 [00:38<00:00,  2.07batch/s, loss=0.0478]\n"
     ]
    },
    {
     "name": "stdout",
     "output_type": "stream",
     "text": [
      "Epoch 7 avg Valid loss: 0.029\n",
      "Epoch 7 Valid accuracy: 98.9% (4945 of 5000 right)\n",
      "\n"
     ]
    },
    {
     "name": "stderr",
     "output_type": "stream",
     "text": [
      "Epoch 8/10: 100%|██████████| 313/313 [02:35<00:00,  2.01batch/s, loss=0.108]\n",
      "Epoch 8/10: 100%|██████████| 79/79 [00:39<00:00,  2.01batch/s, loss=0.045]\n"
     ]
    },
    {
     "name": "stdout",
     "output_type": "stream",
     "text": [
      "Epoch 8 avg Valid loss: 0.028\n",
      "Epoch 8 Valid accuracy: 98.9% (4946 of 5000 right)\n",
      "\n"
     ]
    },
    {
     "name": "stderr",
     "output_type": "stream",
     "text": [
      "Epoch 9/10: 100%|██████████| 313/313 [02:41<00:00,  1.94batch/s, loss=0.0865]\n",
      "Epoch 9/10: 100%|██████████| 79/79 [00:40<00:00,  1.97batch/s, loss=0.0382]\n"
     ]
    },
    {
     "name": "stdout",
     "output_type": "stream",
     "text": [
      "Epoch 9 avg Valid loss: 0.028\n",
      "Epoch 9 Valid accuracy: 98.9% (4946 of 5000 right)\n",
      "\n"
     ]
    },
    {
     "name": "stderr",
     "output_type": "stream",
     "text": [
      "Epoch 10/10: 100%|██████████| 313/313 [02:40<00:00,  1.95batch/s, loss=0.0513]\n",
      "Epoch 10/10: 100%|██████████| 79/79 [00:39<00:00,  2.01batch/s, loss=0.0357]\n"
     ]
    },
    {
     "name": "stdout",
     "output_type": "stream",
     "text": [
      "Epoch 10 avg Valid loss: 0.028\n",
      "Epoch 10 Valid accuracy: 99.0% (4949 of 5000 right)\n",
      "\n"
     ]
    }
   ],
   "source": [
    "train_losses = []\n",
    "valid_losses = []\n",
    "valid_acc = []\n",
    "for epoch in range(params[\"n_epochs\"]):\n",
    "    # Train\n",
    "    train_loss = 0.0\n",
    "    model.train()\n",
    "    with tqdm(enumerate(train_loader), total=len(train_loader), unit=\"batch\") as pbar:\n",
    "        for step, (imgs, labels) in pbar:\n",
    "            pbar.set_description(f\"Epoch {epoch+1}/{params['n_epochs']}\")\n",
    "\n",
    "            imgs, labels = imgs.to(device), labels.to(device)\n",
    "            optimizer.zero_grad()\n",
    "            log_preds = model(imgs)\n",
    "            loss = loss_fn(log_preds, labels)\n",
    "            loss.backward()\n",
    "\n",
    "            optimizer.step()\n",
    "\n",
    "            train_loss += ((1 / (step + 1)) * (loss.data.item() - train_loss))\n",
    "\n",
    "            pbar.set_postfix(loss=loss.data.item())\n",
    "\n",
    "    train_losses.append(train_loss)\n",
    "\n",
    "    # Validation\n",
    "    valid_loss = 0\n",
    "    actual_labels = []\n",
    "    pred_labels = []\n",
    "    model.eval()\n",
    "    with tqdm(enumerate(valid_loader), total=len(valid_loader), unit=\"batch\") as pbar:\n",
    "        for step, (imgs, labels) in pbar:\n",
    "            pbar.set_description(f\"Epoch {epoch+1}/{params['n_epochs']}\")  \n",
    "            imgs, labels = imgs.to(device), labels.to(device)\n",
    "            log_preds = model(imgs)\n",
    "            loss = loss_fn(log_preds, labels)\n",
    "            preds = probs(log_preds)\n",
    "\n",
    "            valid_loss+=((1 / (step + 1)) * (loss.data.item() - valid_loss))\n",
    "\n",
    "            # Calculate accuracy\n",
    "            top_prob, top_class = preds.topk(1, dim=1)\n",
    "            pred_labels+= list((top_class.view(-1)).cpu().numpy())\n",
    "            actual_labels+= list(labels.cpu().numpy())\n",
    "\n",
    "            pbar.set_postfix(loss=loss.data.item())\n",
    "\n",
    "        correct = ((np.array(pred_labels)==np.array(actual_labels)).sum())\n",
    "        total = len(valid_dataset)\n",
    "        accuracy = correct / total\n",
    "\n",
    "        tqdm.write(\"Epoch {} avg Valid loss: {:.3f}\".format(epoch + 1, valid_loss))\n",
    "        tqdm.write(\"Epoch {} Valid accuracy: {:.1%} ({} of {} right)\\n\".format(epoch + 1, accuracy, correct, total))\n",
    "\n",
    "    valid_losses.append(valid_loss)\n",
    "    valid_acc.append(accuracy)\n",
    "\n",
    "    # Save model if validation loss is the lowest\n",
    "    if len(valid_losses)>1 and (valid_loss<min(valid_losses[:-1])):\n",
    "        torch.save(model.state_dict(), f\"models/{params['lr']}_{params['image_size']}_{params['n_epochs']}_{params['dropout_rate']}.pth\")"
   ]
  },
  {
   "cell_type": "code",
   "execution_count": 62,
   "metadata": {},
   "outputs": [
    {
     "data": {
      "image/png": "[encoded data removed]",
      "text/plain": [
       "<Figure size 432x288 with 1 Axes>"
      ]
     },
     "metadata": {
      "needs_background": "light"
     },
     "output_type": "display_data"
    }
   ],
   "source": [
    "from matplotlib import pyplot as plt\n",
    "plt.plot(range(1, params[\"n_epochs\"]+1), train_losses, label=\"Train Loss\")\n",
    "plt.plot(range(1, params[\"n_epochs\"]+1), valid_losses, label=\"Validation Loss\")\n",
    "plt.plot(range(1, params[\"n_epochs\"]+1), valid_acc, label=\"Validation Accuracy\")\n",
    "plt.legend()\n",
    "plt.grid()\n",
    "plt.show()"
   ]
  },
  {
   "cell_type": "markdown",
   "metadata": {},
   "source": [
    "# 5. Model testing"
   ]
  },
  {
   "cell_type": "code",
   "execution_count": 63,
   "metadata": {},
   "outputs": [
    {
     "data": {
      "text/plain": [
       "VGG(\n",
       "  (features): Sequential(\n",
       "    (0): Conv2d(3, 64, kernel_size=(3, 3), stride=(1, 1), padding=(1, 1))\n",
       "    (1): ReLU(inplace=True)\n",
       "    (2): Conv2d(64, 64, kernel_size=(3, 3), stride=(1, 1), padding=(1, 1))\n",
       "    (3): ReLU(inplace=True)\n",
       "    (4): MaxPool2d(kernel_size=2, stride=2, padding=0, dilation=1, ceil_mode=False)\n",
       "    (5): Conv2d(64, 128, kernel_size=(3, 3), stride=(1, 1), padding=(1, 1))\n",
       "    (6): ReLU(inplace=True)\n",
       "    (7): Conv2d(128, 128, kernel_size=(3, 3), stride=(1, 1), padding=(1, 1))\n",
       "    (8): ReLU(inplace=True)\n",
       "    (9): MaxPool2d(kernel_size=2, stride=2, padding=0, dilation=1, ceil_mode=False)\n",
       "    (10): Conv2d(128, 256, kernel_size=(3, 3), stride=(1, 1), padding=(1, 1))\n",
       "    (11): ReLU(inplace=True)\n",
       "    (12): Conv2d(256, 256, kernel_size=(3, 3), stride=(1, 1), padding=(1, 1))\n",
       "    (13): ReLU(inplace=True)\n",
       "    (14): Conv2d(256, 256, kernel_size=(3, 3), stride=(1, 1), padding=(1, 1))\n",
       "    (15): ReLU(inplace=True)\n",
       "    (16): Conv2d(256, 256, kernel_size=(3, 3), stride=(1, 1), padding=(1, 1))\n",
       "    (17): ReLU(inplace=True)\n",
       "    (18): MaxPool2d(kernel_size=2, stride=2, padding=0, dilation=1, ceil_mode=False)\n",
       "    (19): Conv2d(256, 512, kernel_size=(3, 3), stride=(1, 1), padding=(1, 1))\n",
       "    (20): ReLU(inplace=True)\n",
       "    (21): Conv2d(512, 512, kernel_size=(3, 3), stride=(1, 1), padding=(1, 1))\n",
       "    (22): ReLU(inplace=True)\n",
       "    (23): Conv2d(512, 512, kernel_size=(3, 3), stride=(1, 1), padding=(1, 1))\n",
       "    (24): ReLU(inplace=True)\n",
       "    (25): Conv2d(512, 512, kernel_size=(3, 3), stride=(1, 1), padding=(1, 1))\n",
       "    (26): ReLU(inplace=True)\n",
       "    (27): MaxPool2d(kernel_size=2, stride=2, padding=0, dilation=1, ceil_mode=False)\n",
       "    (28): Conv2d(512, 512, kernel_size=(3, 3), stride=(1, 1), padding=(1, 1))\n",
       "    (29): ReLU(inplace=True)\n",
       "    (30): Conv2d(512, 512, kernel_size=(3, 3), stride=(1, 1), padding=(1, 1))\n",
       "    (31): ReLU(inplace=True)\n",
       "    (32): Conv2d(512, 512, kernel_size=(3, 3), stride=(1, 1), padding=(1, 1))\n",
       "    (33): ReLU(inplace=True)\n",
       "    (34): Conv2d(512, 512, kernel_size=(3, 3), stride=(1, 1), padding=(1, 1))\n",
       "    (35): ReLU(inplace=True)\n",
       "    (36): MaxPool2d(kernel_size=2, stride=2, padding=0, dilation=1, ceil_mode=False)\n",
       "  )\n",
       "  (avgpool): AdaptiveAvgPool2d(output_size=(7, 7))\n",
       "  (classifier): Sequential(\n",
       "    (0): Linear(in_features=25088, out_features=4096, bias=True)\n",
       "    (1): ReLU()\n",
       "    (2): Dropout(p=0.5, inplace=False)\n",
       "    (3): Linear(in_features=4096, out_features=4096, bias=True)\n",
       "    (4): ReLU()\n",
       "    (5): Dropout(p=0.5, inplace=False)\n",
       "    (6): Linear(in_features=4096, out_features=2, bias=True)\n",
       "  )\n",
       ")"
      ]
     },
     "execution_count": 63,
     "metadata": {},
     "output_type": "execute_result"
    }
   ],
   "source": [
    "model.load_state_dict(torch.load(f\"models/{params['lr']}_{params['image_size']}_{params['n_epochs']}_{params['dropout_rate']}.pth\"))\n",
    "model.eval()"
   ]
  },
  {
   "cell_type": "markdown",
   "metadata": {},
   "source": [
    "## Validation set"
   ]
  },
  {
   "cell_type": "code",
   "execution_count": 64,
   "metadata": {},
   "outputs": [
    {
     "name": "stderr",
     "output_type": "stream",
     "text": [
      "100%|██████████| 79/79 [00:38<00:00,  2.06batch/s, loss=0.0357]"
     ]
    },
    {
     "name": "stdout",
     "output_type": "stream",
     "text": [
      "Valid loss: 0.028\n",
      "Valid accuracy: 99.0% (4949 of 5000 right)\n",
      "\n"
     ]
    },
    {
     "name": "stderr",
     "output_type": "stream",
     "text": [
      "\n"
     ]
    }
   ],
   "source": [
    "# Validation\n",
    "running_loss = 0\n",
    "actual_labels = []\n",
    "pred_labels = []\n",
    "with tqdm(enumerate(valid_loader), total=len(valid_loader), unit=\"batch\") as pbar:\n",
    "    for step, (imgs, labels) in pbar:\n",
    "        imgs, labels = imgs.to(device), labels.to(device)\n",
    "        log_preds = model(imgs)\n",
    "        loss = loss_fn(log_preds, labels)\n",
    "\n",
    "        preds = probs(log_preds)\n",
    "        running_loss += ((1 / (step + 1)) * (loss.data.item() - running_loss))\n",
    "\n",
    "        # Calculate accuracy\n",
    "        top_prob, top_class = preds.topk(1, dim=1)\n",
    "        pred_labels += list((top_class.view(-1)).cpu().numpy())\n",
    "        actual_labels += list(labels.cpu().numpy())\n",
    "\n",
    "        pbar.set_postfix(loss=loss.data.item())\n",
    "\n",
    "    correct = ((np.array(pred_labels)==np.array(actual_labels)).sum())\n",
    "    total = len(actual_labels)\n",
    "    accuracy = correct / total\n",
    "\n",
    "    tqdm.write(\"Valid loss: {:.3f}\".format(running_loss))\n",
    "    tqdm.write(\"Valid accuracy: {:.1%} ({} of {} right)\\n\".format(accuracy, correct, total))"
   ]
  },
  {
   "cell_type": "markdown",
   "metadata": {},
   "source": [
    "## Test set"
   ]
  },
  {
   "cell_type": "code",
   "execution_count": 65,
   "metadata": {},
   "outputs": [],
   "source": [
    "# Custom Dataset class for test data\n",
    "class TestCatDogDataset(Dataset):\n",
    "    def __init__(self, image_paths, transform=None):\n",
    "        self.image_paths = image_paths\n",
    "        self.transform = transform\n",
    "\n",
    "    def __len__(self):\n",
    "        return len(self.image_paths)\n",
    "\n",
    "    def __getitem__(self, idx):\n",
    "        image_filepath = self.image_paths[idx]\n",
    "        image_filename = Path(image_filepath).stem\n",
    "        image = cv2.imread(image_filepath)\n",
    "        image = cv2.cvtColor(image, cv2.COLOR_BGR2RGB)\n",
    "\n",
    "        if self.transform is not None:\n",
    "            image = self.transform(image)\n",
    "\n",
    "        return image, image_filename"
   ]
  },
  {
   "cell_type": "code",
   "execution_count": 66,
   "metadata": {},
   "outputs": [],
   "source": [
    "test_dataset = TestCatDogDataset(test_image_paths, validation_transform)\n",
    "test_loader = DataLoader(test_dataset, batch_size=params[\"batch_size\"], shuffle=False)"
   ]
  },
  {
   "cell_type": "code",
   "execution_count": 67,
   "metadata": {},
   "outputs": [
    {
     "name": "stderr",
     "output_type": "stream",
     "text": [
      "100%|██████████| 500/500 [00:06<00:00, 73.13batch/s]\n"
     ]
    }
   ],
   "source": [
    "# Test\n",
    "pred_labels = []\n",
    "filename = []\n",
    "with tqdm(test_loader, total=len(test_loader), unit=\"batch\") as pbar:\n",
    "    for imgs, filenames in pbar:\n",
    "        imgs = imgs.to(device)\n",
    "        log_preds = model(imgs)\n",
    "\n",
    "        preds = probs(log_preds)\n",
    "\n",
    "        top_prob, top_class = preds.topk(1, dim=1)\n",
    "        pred_labels += list((top_class.view(-1)).cpu().numpy())\n",
    "        filename += filenames"
   ]
  },
  {
   "cell_type": "code",
   "execution_count": 68,
   "metadata": {},
   "outputs": [],
   "source": [
    "df = pd.DataFrame(list(zip(filename, pred_labels)),\n",
    "               columns=[\"id\", \"label\"])\n",
    "df[\"id\"] = pd.to_numeric(df[\"id\"])\n",
    "df = df.sort_values(by=[\"id\"])\n",
    "df.to_csv(\"submission.csv\", index=False)"
   ]
  },
  {
   "cell_type": "markdown",
   "metadata": {},
   "source": [
    "# 6. CIFAR-10 training"
   ]
  },
  {
   "cell_type": "code",
   "execution_count": 69,
   "metadata": {},
   "outputs": [],
   "source": [
    "train_transform = transforms.Compose(\n",
    "    [\n",
    "        transforms.Resize((params[\"image_size\"], params[\"image_size\"])),\n",
    "        transforms.RandomHorizontalFlip(),\n",
    "        transforms.ToTensor(),\n",
    "        transforms.Normalize(mean, std),\n",
    "    ]\n",
    ")\n",
    "\n",
    "validation_transform = transforms.Compose(\n",
    "    [\n",
    "        transforms.Resize((params[\"image_size\"], params[\"image_size\"])),\n",
    "        transforms.ToTensor(),\n",
    "        transforms.Normalize(mean, std),\n",
    "    ]\n",
    ")"
   ]
  },
  {
   "cell_type": "code",
   "execution_count": 70,
   "metadata": {},
   "outputs": [
    {
     "name": "stdout",
     "output_type": "stream",
     "text": [
      "Files already downloaded and verified\n",
      "Files already downloaded and verified\n"
     ]
    }
   ],
   "source": [
    "train_dataset = torchvision.datasets.CIFAR10(root=\"./data\", train=True,\n",
    "                                        download=True, transform=train_transform)\n",
    "\n",
    "train_loader = torch.utils.data.DataLoader(train_dataset, batch_size=params[\"batch_size\"],\n",
    "                                          shuffle=True,\n",
    "                                          num_workers=params[\"num_workers\"])\n",
    "\n",
    "test_dataset = torchvision.datasets.CIFAR10(root=\"./data\", train=False,\n",
    "                                       download=True, transform=validation_transform)\n",
    "test_loader = torch.utils.data.DataLoader(test_dataset, batch_size=params[\"batch_size\"],\n",
    "                                         shuffle=False, num_workers=params[\"num_workers\"])\n",
    "\n",
    "classes = (\"plane\", \"car\", \"bird\", \"cat\", \"deer\", \"dog\", \"frog\", \"horse\", \"ship\", \"truck\")"
   ]
  },
  {
   "cell_type": "code",
   "execution_count": 71,
   "metadata": {},
   "outputs": [],
   "source": [
    "model = copy.deepcopy(cat_dog_model)\n",
    "model.classifier = torch.nn.Sequential(torch.nn.Linear(25088, 4096),\n",
    "                                       torch.nn.ReLU(),\n",
    "                                       torch.nn.Dropout(p=params[\"dropout_rate\"]),\n",
    "                                       torch.nn.Linear(4096, 4096),\n",
    "                                       torch.nn.ReLU(),\n",
    "                                       torch.nn.Dropout(p=params[\"dropout_rate\"]),\n",
    "                                       torch.nn.Linear(4096, 10))\n",
    "model.to(device)\n",
    "\n",
    "probs = torch.nn.Softmax(dim=1)\n",
    "loss_fn = torch.nn.CrossEntropyLoss()\n",
    "optimizer = torch.optim.SGD(model.classifier.parameters(), lr=params[\"lr\"])"
   ]
  },
  {
   "cell_type": "code",
   "execution_count": 72,
   "metadata": {},
   "outputs": [
    {
     "name": "stderr",
     "output_type": "stream",
     "text": [
      "Epoch 1/10: 100%|██████████| 782/782 [04:02<00:00,  3.23batch/s, loss=1.63]\n",
      "Epoch 1/10: 100%|██████████| 157/157 [00:47<00:00,  3.32batch/s, loss=1.61]\n"
     ]
    },
    {
     "name": "stdout",
     "output_type": "stream",
     "text": [
      "Epoch 1 avg Valid loss: 1.543\n",
      "Epoch 1 Valid accuracy: 68.6% (6857 of 10000 right)\n",
      "\n"
     ]
    },
    {
     "name": "stderr",
     "output_type": "stream",
     "text": [
      "Epoch 2/10: 100%|██████████| 782/782 [03:58<00:00,  3.27batch/s, loss=1.21]\n",
      "Epoch 2/10: 100%|██████████| 157/157 [00:46<00:00,  3.35batch/s, loss=0.879]\n"
     ]
    },
    {
     "name": "stdout",
     "output_type": "stream",
     "text": [
      "Epoch 2 avg Valid loss: 0.899\n",
      "Epoch 2 Valid accuracy: 76.6% (7656 of 10000 right)\n",
      "\n"
     ]
    },
    {
     "name": "stderr",
     "output_type": "stream",
     "text": [
      "Epoch 3/10: 100%|██████████| 782/782 [03:58<00:00,  3.28batch/s, loss=1.01]\n",
      "Epoch 3/10: 100%|██████████| 157/157 [00:45<00:00,  3.44batch/s, loss=0.633]\n"
     ]
    },
    {
     "name": "stdout",
     "output_type": "stream",
     "text": [
      "Epoch 3 avg Valid loss: 0.670\n",
      "Epoch 3 Valid accuracy: 79.4% (7944 of 10000 right)\n",
      "\n"
     ]
    },
    {
     "name": "stderr",
     "output_type": "stream",
     "text": [
      "Epoch 4/10: 100%|██████████| 782/782 [03:53<00:00,  3.34batch/s, loss=0.527]\n",
      "Epoch 4/10: 100%|██████████| 157/157 [00:46<00:00,  3.39batch/s, loss=0.513]\n"
     ]
    },
    {
     "name": "stdout",
     "output_type": "stream",
     "text": [
      "Epoch 4 avg Valid loss: 0.568\n",
      "Epoch 4 Valid accuracy: 81.6% (8156 of 10000 right)\n",
      "\n"
     ]
    },
    {
     "name": "stderr",
     "output_type": "stream",
     "text": [
      "Epoch 5/10: 100%|██████████| 782/782 [03:56<00:00,  3.31batch/s, loss=0.786]\n",
      "Epoch 5/10: 100%|██████████| 157/157 [00:45<00:00,  3.42batch/s, loss=0.42]\n"
     ]
    },
    {
     "name": "stdout",
     "output_type": "stream",
     "text": [
      "Epoch 5 avg Valid loss: 0.516\n",
      "Epoch 5 Valid accuracy: 83.0% (8300 of 10000 right)\n",
      "\n"
     ]
    },
    {
     "name": "stderr",
     "output_type": "stream",
     "text": [
      "Epoch 6/10: 100%|██████████| 782/782 [03:54<00:00,  3.33batch/s, loss=0.194]\n",
      "Epoch 6/10: 100%|██████████| 157/157 [00:46<00:00,  3.41batch/s, loss=0.385]\n"
     ]
    },
    {
     "name": "stdout",
     "output_type": "stream",
     "text": [
      "Epoch 6 avg Valid loss: 0.479\n",
      "Epoch 6 Valid accuracy: 83.7% (8374 of 10000 right)\n",
      "\n"
     ]
    },
    {
     "name": "stderr",
     "output_type": "stream",
     "text": [
      "Epoch 7/10: 100%|██████████| 782/782 [03:58<00:00,  3.28batch/s, loss=0.913]\n",
      "Epoch 7/10: 100%|██████████| 157/157 [00:46<00:00,  3.40batch/s, loss=0.368]\n"
     ]
    },
    {
     "name": "stdout",
     "output_type": "stream",
     "text": [
      "Epoch 7 avg Valid loss: 0.455\n",
      "Epoch 7 Valid accuracy: 84.2% (8425 of 10000 right)\n",
      "\n"
     ]
    },
    {
     "name": "stderr",
     "output_type": "stream",
     "text": [
      "Epoch 8/10: 100%|██████████| 782/782 [03:57<00:00,  3.29batch/s, loss=0.444]\n",
      "Epoch 8/10: 100%|██████████| 157/157 [00:47<00:00,  3.33batch/s, loss=0.335]\n"
     ]
    },
    {
     "name": "stdout",
     "output_type": "stream",
     "text": [
      "Epoch 8 avg Valid loss: 0.436\n",
      "Epoch 8 Valid accuracy: 84.8% (8483 of 10000 right)\n",
      "\n"
     ]
    },
    {
     "name": "stderr",
     "output_type": "stream",
     "text": [
      "Epoch 9/10: 100%|██████████| 782/782 [03:56<00:00,  3.30batch/s, loss=0.348]\n",
      "Epoch 9/10: 100%|██████████| 157/157 [00:46<00:00,  3.41batch/s, loss=0.321]\n"
     ]
    },
    {
     "name": "stdout",
     "output_type": "stream",
     "text": [
      "Epoch 9 avg Valid loss: 0.422\n",
      "Epoch 9 Valid accuracy: 85.6% (8556 of 10000 right)\n",
      "\n"
     ]
    },
    {
     "name": "stderr",
     "output_type": "stream",
     "text": [
      "Epoch 10/10: 100%|██████████| 782/782 [04:00<00:00,  3.25batch/s, loss=0.336]\n",
      "Epoch 10/10: 100%|██████████| 157/157 [00:46<00:00,  3.34batch/s, loss=0.3]\n"
     ]
    },
    {
     "name": "stdout",
     "output_type": "stream",
     "text": [
      "Epoch 10 avg Valid loss: 0.411\n",
      "Epoch 10 Valid accuracy: 85.9% (8587 of 10000 right)\n",
      "\n"
     ]
    }
   ],
   "source": [
    "train_losses = []\n",
    "valid_losses = []\n",
    "valid_acc = []\n",
    "for epoch in range(params[\"n_epochs\"]):\n",
    "    # Train\n",
    "    train_loss = 0.0\n",
    "    model.train()\n",
    "    with tqdm(enumerate(train_loader), total=len(train_loader), unit=\"batch\") as pbar:\n",
    "        for step, (imgs, labels) in pbar:\n",
    "            pbar.set_description(\"Epoch {}/{}\".format(epoch+1, params[\"n_epochs\"]))\n",
    "\n",
    "            imgs, labels = imgs.to(device), labels.to(device)\n",
    "            optimizer.zero_grad()\n",
    "            log_preds = model(imgs)\n",
    "            loss = loss_fn(log_preds, labels)\n",
    "            loss.backward()\n",
    "\n",
    "            optimizer.step()\n",
    "\n",
    "            train_loss += ((1 / (step + 1)) * (loss.data.item() - train_loss))\n",
    "\n",
    "            pbar.set_postfix(loss=loss.data.item())\n",
    "    train_losses.append(train_loss)\n",
    "\n",
    "    # Validation\n",
    "    valid_loss = 0\n",
    "    actual_labels = []\n",
    "    pred_labels = []\n",
    "    model.eval()\n",
    "    with tqdm(enumerate(test_loader), total=len(test_loader), unit=\"batch\") as pbar:\n",
    "        for step, (imgs, labels) in pbar:\n",
    "            pbar.set_description(f\"Epoch {epoch+1}/{params['n_epochs']}\")  \n",
    "            imgs, labels = imgs.to(device), labels.to(device)\n",
    "            log_preds = model(imgs)\n",
    "            loss = loss_fn(log_preds, labels)\n",
    "\n",
    "            preds = probs(log_preds)\n",
    "            valid_loss+=((1 / (step + 1)) * (loss.data.item() - valid_loss))\n",
    "\n",
    "            # Calculate accuracy\n",
    "            top_prob, top_class = preds.topk(1, dim=1)\n",
    "            pred_labels+= list((top_class.view(-1)).cpu().numpy())\n",
    "            actual_labels+= list(labels.cpu().numpy())\n",
    "\n",
    "            pbar.set_postfix(loss=loss.data.item())\n",
    "\n",
    "        correct = (np.array(pred_labels)==np.array(actual_labels)).sum()\n",
    "        total = len(actual_labels)\n",
    "        accuracy = correct / total\n",
    "\n",
    "        tqdm.write(\"Epoch {} avg Valid loss: {:.3f}\".format(epoch + 1, valid_loss))\n",
    "        tqdm.write(\"Epoch {} Valid accuracy: {:.1%} ({} of {} right)\\n\".format(epoch + 1, accuracy, correct, total))\n",
    "\n",
    "    valid_losses.append(valid_loss)\n",
    "    valid_acc.append(accuracy)\n",
    "\n",
    "    if len(valid_losses)>1 and (valid_loss<min(valid_losses[:-1])):\n",
    "        torch.save(model.state_dict(), f\"models/cifar_10_{params['lr']}_{params['image_size']}_{params['n_epochs']}_{params['dropout_rate']}.pth\")"
   ]
  },
  {
   "cell_type": "code",
   "execution_count": 73,
   "metadata": {},
   "outputs": [
    {
     "data": {
      "image/png": "[encoded data removed]",
      "text/plain": [
       "<Figure size 432x288 with 1 Axes>"
      ]
     },
     "metadata": {
      "needs_background": "light"
     },
     "output_type": "display_data"
    }
   ],
   "source": [
    "from matplotlib import pyplot as plt\n",
    "plt.plot(range(1, params[\"n_epochs\"]+1), train_losses, label=\"Train Loss\")\n",
    "plt.plot(range(1, params[\"n_epochs\"]+1), valid_losses, label=\"Validation Loss\")\n",
    "plt.plot(range(1, params[\"n_epochs\"]+1), valid_acc, label=\"Validation Accuracy\")\n",
    "plt.legend()\n",
    "plt.grid()\n",
    "plt.show()"
   ]
  },
  {
   "cell_type": "markdown",
   "metadata": {},
   "source": [
    "# 7. CIFAR-10 testing"
   ]
  },
  {
   "cell_type": "code",
   "execution_count": 74,
   "metadata": {},
   "outputs": [
    {
     "data": {
      "text/plain": [
       "VGG(\n",
       "  (features): Sequential(\n",
       "    (0): Conv2d(3, 64, kernel_size=(3, 3), stride=(1, 1), padding=(1, 1))\n",
       "    (1): ReLU(inplace=True)\n",
       "    (2): Conv2d(64, 64, kernel_size=(3, 3), stride=(1, 1), padding=(1, 1))\n",
       "    (3): ReLU(inplace=True)\n",
       "    (4): MaxPool2d(kernel_size=2, stride=2, padding=0, dilation=1, ceil_mode=False)\n",
       "    (5): Conv2d(64, 128, kernel_size=(3, 3), stride=(1, 1), padding=(1, 1))\n",
       "    (6): ReLU(inplace=True)\n",
       "    (7): Conv2d(128, 128, kernel_size=(3, 3), stride=(1, 1), padding=(1, 1))\n",
       "    (8): ReLU(inplace=True)\n",
       "    (9): MaxPool2d(kernel_size=2, stride=2, padding=0, dilation=1, ceil_mode=False)\n",
       "    (10): Conv2d(128, 256, kernel_size=(3, 3), stride=(1, 1), padding=(1, 1))\n",
       "    (11): ReLU(inplace=True)\n",
       "    (12): Conv2d(256, 256, kernel_size=(3, 3), stride=(1, 1), padding=(1, 1))\n",
       "    (13): ReLU(inplace=True)\n",
       "    (14): Conv2d(256, 256, kernel_size=(3, 3), stride=(1, 1), padding=(1, 1))\n",
       "    (15): ReLU(inplace=True)\n",
       "    (16): Conv2d(256, 256, kernel_size=(3, 3), stride=(1, 1), padding=(1, 1))\n",
       "    (17): ReLU(inplace=True)\n",
       "    (18): MaxPool2d(kernel_size=2, stride=2, padding=0, dilation=1, ceil_mode=False)\n",
       "    (19): Conv2d(256, 512, kernel_size=(3, 3), stride=(1, 1), padding=(1, 1))\n",
       "    (20): ReLU(inplace=True)\n",
       "    (21): Conv2d(512, 512, kernel_size=(3, 3), stride=(1, 1), padding=(1, 1))\n",
       "    (22): ReLU(inplace=True)\n",
       "    (23): Conv2d(512, 512, kernel_size=(3, 3), stride=(1, 1), padding=(1, 1))\n",
       "    (24): ReLU(inplace=True)\n",
       "    (25): Conv2d(512, 512, kernel_size=(3, 3), stride=(1, 1), padding=(1, 1))\n",
       "    (26): ReLU(inplace=True)\n",
       "    (27): MaxPool2d(kernel_size=2, stride=2, padding=0, dilation=1, ceil_mode=False)\n",
       "    (28): Conv2d(512, 512, kernel_size=(3, 3), stride=(1, 1), padding=(1, 1))\n",
       "    (29): ReLU(inplace=True)\n",
       "    (30): Conv2d(512, 512, kernel_size=(3, 3), stride=(1, 1), padding=(1, 1))\n",
       "    (31): ReLU(inplace=True)\n",
       "    (32): Conv2d(512, 512, kernel_size=(3, 3), stride=(1, 1), padding=(1, 1))\n",
       "    (33): ReLU(inplace=True)\n",
       "    (34): Conv2d(512, 512, kernel_size=(3, 3), stride=(1, 1), padding=(1, 1))\n",
       "    (35): ReLU(inplace=True)\n",
       "    (36): MaxPool2d(kernel_size=2, stride=2, padding=0, dilation=1, ceil_mode=False)\n",
       "  )\n",
       "  (avgpool): AdaptiveAvgPool2d(output_size=(7, 7))\n",
       "  (classifier): Sequential(\n",
       "    (0): Linear(in_features=25088, out_features=4096, bias=True)\n",
       "    (1): ReLU()\n",
       "    (2): Dropout(p=0.5, inplace=False)\n",
       "    (3): Linear(in_features=4096, out_features=4096, bias=True)\n",
       "    (4): ReLU()\n",
       "    (5): Dropout(p=0.5, inplace=False)\n",
       "    (6): Linear(in_features=4096, out_features=10, bias=True)\n",
       "  )\n",
       ")"
      ]
     },
     "execution_count": 74,
     "metadata": {},
     "output_type": "execute_result"
    }
   ],
   "source": [
    "model.load_state_dict(torch.load(f\"models/cifar_10_{params['lr']}_{params['image_size']}_{params['n_epochs']}_{params['dropout_rate']}.pth\"))\n",
    "model.eval()"
   ]
  },
  {
   "cell_type": "code",
   "execution_count": 75,
   "metadata": {},
   "outputs": [
    {
     "name": "stderr",
     "output_type": "stream",
     "text": [
      "100%|██████████| 157/157 [00:47<00:00,  3.32batch/s]\n"
     ]
    }
   ],
   "source": [
    "# Test\n",
    "correct_pred = {classname: 0 for classname in classes}\n",
    "total_pred = {classname: 0 for classname in classes}\n",
    "model.eval()\n",
    "\n",
    "with tqdm(test_loader, total=len(test_loader), unit=\"batch\") as pbar:\n",
    "    for imgs, labels in pbar:\n",
    "        imgs, labels = imgs.to(device), labels.to(device)\n",
    "        log_preds = model(imgs)\n",
    "        loss = loss_fn(log_preds, labels)\n",
    "\n",
    "        preds = probs(log_preds)\n",
    "\n",
    "        top_prob, top_class = preds.topk(1, dim=1)\n",
    "\n",
    "        for label, prediction in zip(labels, top_class):\n",
    "            if label == prediction:\n",
    "                correct_pred[classes[label]] += 1\n",
    "            total_pred[classes[label]] += 1"
   ]
  },
  {
   "cell_type": "code",
   "execution_count": 76,
   "metadata": {},
   "outputs": [
    {
     "name": "stdout",
     "output_type": "stream",
     "text": [
      "{'plane': 864, 'car': 929, 'bird': 777, 'cat': 735, 'deer': 844, 'dog': 808, 'frog': 908, 'horse': 882, 'ship': 926, 'truck': 914}\n",
      "{'plane': 1000, 'car': 1000, 'bird': 1000, 'cat': 1000, 'deer': 1000, 'dog': 1000, 'frog': 1000, 'horse': 1000, 'ship': 1000, 'truck': 1000}\n"
     ]
    }
   ],
   "source": [
    "print(correct_pred)\n",
    "print(total_pred)"
   ]
  },
  {
   "cell_type": "code",
   "execution_count": 77,
   "metadata": {},
   "outputs": [
    {
     "name": "stdout",
     "output_type": "stream",
     "text": [
      "Accuracy for class plane is: 86.4 %\n",
      "Accuracy for class car   is: 92.9 %\n",
      "Accuracy for class bird  is: 77.7 %\n",
      "Accuracy for class cat   is: 73.5 %\n",
      "Accuracy for class deer  is: 84.4 %\n",
      "Accuracy for class dog   is: 80.8 %\n",
      "Accuracy for class frog  is: 90.8 %\n",
      "Accuracy for class horse is: 88.2 %\n",
      "Accuracy for class ship  is: 92.6 %\n",
      "Accuracy for class truck is: 91.4 %\n",
      "Test accuracy: 85.9% (8587 of 10000 right)\n",
      "\n"
     ]
    }
   ],
   "source": [
    "# Print accuracy for each class\n",
    "for classname, correct_count in correct_pred.items():\n",
    "    accuracy = 100 * float(correct_count) / total_pred[classname]\n",
    "    print(\"Accuracy for class {:5s} is: {:.1f} %\".format(classname, accuracy))\n",
    "\n",
    "correct = sum(correct_pred.values())\n",
    "total = sum(total_pred.values())\n",
    "accuracy = correct / total\n",
    "\n",
    "print(\"Test accuracy: {:.1%} ({} of {} right)\\n\".format(accuracy, correct, total))"
   ]
  }
 ],
 "metadata": {
  "interpreter": {
   "hash": "89ea3e921d5f22d2b46ed8b2b66b1aa063d1552fc9c096c0e74c45a505ca44a9"
  },
  "kernelspec": {
   "display_name": "Python 3.9.6 64-bit ('env': venv)",
   "language": "python",
   "name": "python3"
  },
  "language_info": {
   "codemirror_mode": {
    "name": "ipython",
    "version": 3
   },
   "file_extension": ".py",
   "mimetype": "text/x-python",
   "name": "python",
   "nbconvert_exporter": "python",
   "pygments_lexer": "ipython3",
   "version": "3.9.6"
  },
  "orig_nbformat": 4
 },
 "nbformat": 4,
 "nbformat_minor": 2
}
